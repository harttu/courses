{
  "nbformat": 4,
  "nbformat_minor": 0,
  "metadata": {
    "colab": {
      "name": "Chapter5_model_from_scratch.ipynb",
      "provenance": [],
      "authorship_tag": "ABX9TyP3hK4bqCHYrGr6Estn2zgu",
      "include_colab_link": true
    },
    "kernelspec": {
      "name": "python3",
      "display_name": "Python 3"
    },
    "language_info": {
      "name": "python"
    }
  },
  "cells": [
    {
      "cell_type": "markdown",
      "metadata": {
        "id": "view-in-github",
        "colab_type": "text"
      },
      "source": [
        "<a href=\"https://colab.research.google.com/github/harttu/courses/blob/main/DeepLearningWithPytorch/Chapter5_model_from_scratch.ipynb\" target=\"_parent\"><img src=\"https://colab.research.google.com/assets/colab-badge.svg\" alt=\"Open In Colab\"/></a>"
      ]
    },
    {
      "cell_type": "markdown",
      "source": [
        ""
      ],
      "metadata": {
        "id": "U0mqYetXZSqp"
      }
    },
    {
      "cell_type": "code",
      "source": [
        "import torch"
      ],
      "metadata": {
        "id": "ufVmo7u2al_Y"
      },
      "execution_count": 8,
      "outputs": []
    },
    {
      "cell_type": "code",
      "execution_count": 9,
      "metadata": {
        "id": "8AbU33gbYQb-"
      },
      "outputs": [],
      "source": [
        "t_c = [ 0.5, 14.0, 28.0, 11.0,  8.0,  3.0, -4.0,  6.0, 13.0, 21.0 ]\n",
        "t_u = [35.7, 58.2, 81.9, 56.3, 48.9, 33.9, 21.8, 48.4, 60.4, 68.4 ]\n",
        "t_c = torch.tensor(t_c)\n",
        "t_u = torch.tensor(t_u)"
      ]
    },
    {
      "cell_type": "code",
      "source": [
        "def model(t_u, w, b):\n",
        "  return w * t_u + b\n",
        "\n",
        "def loss(t_p,t_c):\n",
        "  return ((t_p - t_c ) ** 2).mean()\n"
      ],
      "metadata": {
        "id": "g8ACRe64ZSP0"
      },
      "execution_count": 18,
      "outputs": []
    },
    {
      "cell_type": "code",
      "source": [
        "w = torch.ones(())\n",
        "b = torch.zeros(())"
      ],
      "metadata": {
        "id": "RyKoFLPLaNtW"
      },
      "execution_count": 19,
      "outputs": []
    },
    {
      "cell_type": "code",
      "source": [
        "t_p = model(t_u,w,b)"
      ],
      "metadata": {
        "id": "5-Kh-9tZaBt5"
      },
      "execution_count": 20,
      "outputs": []
    },
    {
      "cell_type": "code",
      "source": [
        "t_p,t_c"
      ],
      "metadata": {
        "colab": {
          "base_uri": "https://localhost:8080/"
        },
        "id": "Y-0IukTBbM2S",
        "outputId": "45d78001-d5cd-4d06-bad2-1c7085130826"
      },
      "execution_count": 23,
      "outputs": [
        {
          "output_type": "execute_result",
          "data": {
            "text/plain": [
              "(tensor([35.7000, 58.2000, 81.9000, 56.3000, 48.9000, 33.9000, 21.8000, 48.4000,\n",
              "         60.4000, 68.4000]),\n",
              " tensor([ 0.5000, 14.0000, 28.0000, 11.0000,  8.0000,  3.0000, -4.0000,  6.0000,\n",
              "         13.0000, 21.0000]))"
            ]
          },
          "metadata": {},
          "execution_count": 23
        }
      ]
    },
    {
      "cell_type": "code",
      "source": [
        "loss(t_p,t_c)"
      ],
      "metadata": {
        "colab": {
          "base_uri": "https://localhost:8080/"
        },
        "id": "n-lmZMOObHy_",
        "outputId": "f9250496-1411-46a5-b18c-d76ba942e31f"
      },
      "execution_count": 22,
      "outputs": [
        {
          "output_type": "execute_result",
          "data": {
            "text/plain": [
              "tensor(1773.4521)"
            ]
          },
          "metadata": {},
          "execution_count": 22
        }
      ]
    },
    {
      "cell_type": "markdown",
      "source": [
        "Naivi tapa laskea kulmakerrointa. Ei skaalaudu"
      ],
      "metadata": {
        "id": "S8_MzWO_b_0W"
      }
    },
    {
      "cell_type": "code",
      "source": [
        "delta = 0.1\n",
        "\n",
        "loss_rate_of_change_w = \\\n",
        "  (loss(model(t_u, w + delta, b), t_c) -\n",
        "   loss(model(t_u, w - delta, b), t_c)) / ( 2.0 * delta )"
      ],
      "metadata": {
        "id": "Cfgq3_bObKlH"
      },
      "execution_count": 24,
      "outputs": []
    },
    {
      "cell_type": "code",
      "source": [
        "learning_rate = 1e-2\n",
        "\n",
        "w  = w - learning_rate * loss_rate_change_w"
      ],
      "metadata": {
        "colab": {
          "base_uri": "https://localhost:8080/",
          "height": 197
        },
        "id": "_l9xoS1hb8aG",
        "outputId": "c156c9c7-af02-4258-cacf-dd33140c379f"
      },
      "execution_count": 26,
      "outputs": [
        {
          "output_type": "error",
          "ename": "NameError",
          "evalue": "ignored",
          "traceback": [
            "\u001b[0;31m---------------------------------------------------------------------------\u001b[0m",
            "\u001b[0;31mNameError\u001b[0m                                 Traceback (most recent call last)",
            "\u001b[0;32m<ipython-input-26-ad0bb1345f05>\u001b[0m in \u001b[0;36m<module>\u001b[0;34m()\u001b[0m\n\u001b[1;32m      1\u001b[0m \u001b[0mlearning_rate\u001b[0m \u001b[0;34m=\u001b[0m \u001b[0;36m1e-2\u001b[0m\u001b[0;34m\u001b[0m\u001b[0;34m\u001b[0m\u001b[0m\n\u001b[1;32m      2\u001b[0m \u001b[0;34m\u001b[0m\u001b[0m\n\u001b[0;32m----> 3\u001b[0;31m \u001b[0mw\u001b[0m  \u001b[0;34m=\u001b[0m \u001b[0mw\u001b[0m \u001b[0;34m-\u001b[0m \u001b[0mlearning_rate\u001b[0m \u001b[0;34m*\u001b[0m \u001b[0mloss_rate_change_w\u001b[0m\u001b[0;34m\u001b[0m\u001b[0;34m\u001b[0m\u001b[0m\n\u001b[0m",
            "\u001b[0;31mNameError\u001b[0m: name 'loss_rate_change_w' is not defined"
          ]
        }
      ]
    },
    {
      "cell_type": "code",
      "source": [
        "loss_rate_of_change_b = \\\n",
        "  (loss(model(t_u,w,b)))"
      ],
      "metadata": {
        "id": "-F2g1kuycel6"
      },
      "execution_count": null,
      "outputs": []
    }
  ]
}