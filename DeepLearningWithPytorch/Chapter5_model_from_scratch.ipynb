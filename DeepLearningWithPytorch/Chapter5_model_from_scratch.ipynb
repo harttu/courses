{
  "nbformat": 4,
  "nbformat_minor": 0,
  "metadata": {
    "colab": {
      "provenance": [],
      "authorship_tag": "ABX9TyOZhfU2Xo2I6hACbRW4Hsyj",
      "include_colab_link": true
    },
    "kernelspec": {
      "name": "python3",
      "display_name": "Python 3"
    },
    "language_info": {
      "name": "python"
    }
  },
  "cells": [
    {
      "cell_type": "markdown",
      "metadata": {
        "id": "view-in-github",
        "colab_type": "text"
      },
      "source": [
        "<a href=\"https://colab.research.google.com/github/harttu/courses/blob/main/DeepLearningWithPytorch/Chapter5_model_from_scratch.ipynb\" target=\"_parent\"><img src=\"https://colab.research.google.com/assets/colab-badge.svg\" alt=\"Open In Colab\"/></a>"
      ]
    },
    {
      "cell_type": "markdown",
      "source": [],
      "metadata": {
        "id": "U0mqYetXZSqp"
      }
    },
    {
      "cell_type": "code",
      "source": [
        "import torch"
      ],
      "metadata": {
        "id": "ufVmo7u2al_Y"
      },
      "execution_count": null,
      "outputs": []
    },
    {
      "cell_type": "code",
      "execution_count": null,
      "metadata": {
        "id": "8AbU33gbYQb-"
      },
      "outputs": [],
      "source": [
        "t_c = [ 0.5, 14.0, 28.0, 11.0,  8.0,  3.0, -4.0,  6.0, 13.0, 21.0 ]\n",
        "t_u = [35.7, 58.2, 81.9, 56.3, 48.9, 33.9, 21.8, 48.4, 60.4, 68.4 ]\n",
        "t_c = torch.tensor(t_c)\n",
        "t_u = torch.tensor(t_u)"
      ]
    },
    {
      "cell_type": "code",
      "source": [
        "def model(t_u, w, b):\n",
        "  return w * t_u + b\n",
        "\n",
        "def loss_fn(t_p,t_c):\n",
        "  return ((t_p - t_c ) ** 2).mean()\n"
      ],
      "metadata": {
        "id": "g8ACRe64ZSP0"
      },
      "execution_count": null,
      "outputs": []
    },
    {
      "cell_type": "code",
      "source": [
        "w = torch.ones(())\n",
        "b = torch.zeros(())"
      ],
      "metadata": {
        "id": "RyKoFLPLaNtW"
      },
      "execution_count": null,
      "outputs": []
    },
    {
      "cell_type": "code",
      "source": [
        "t_p = model(t_u,w,b)"
      ],
      "metadata": {
        "id": "5-Kh-9tZaBt5"
      },
      "execution_count": null,
      "outputs": []
    },
    {
      "cell_type": "code",
      "source": [
        "t_p,t_c"
      ],
      "metadata": {
        "colab": {
          "base_uri": "https://localhost:8080/"
        },
        "id": "Y-0IukTBbM2S",
        "outputId": "e98a691d-ed15-49d0-b4ce-50b635c34204"
      },
      "execution_count": null,
      "outputs": [
        {
          "output_type": "execute_result",
          "data": {
            "text/plain": [
              "(tensor([35.7000, 58.2000, 81.9000, 56.3000, 48.9000, 33.9000, 21.8000, 48.4000,\n",
              "         60.4000, 68.4000]),\n",
              " tensor([ 0.5000, 14.0000, 28.0000, 11.0000,  8.0000,  3.0000, -4.0000,  6.0000,\n",
              "         13.0000, 21.0000]))"
            ]
          },
          "metadata": {},
          "execution_count": 6
        }
      ]
    },
    {
      "cell_type": "code",
      "source": [
        "loss_fn(t_p,t_c)"
      ],
      "metadata": {
        "colab": {
          "base_uri": "https://localhost:8080/"
        },
        "id": "n-lmZMOObHy_",
        "outputId": "370ba11b-5c85-47d6-c207-cb0709ab713a"
      },
      "execution_count": null,
      "outputs": [
        {
          "output_type": "execute_result",
          "data": {
            "text/plain": [
              "tensor(1773.4521)"
            ]
          },
          "metadata": {},
          "execution_count": 7
        }
      ]
    },
    {
      "cell_type": "markdown",
      "source": [
        "Naivi tapa laskea kulmakerrointa. Ei skaalaudu"
      ],
      "metadata": {
        "id": "S8_MzWO_b_0W"
      }
    },
    {
      "cell_type": "code",
      "source": [
        "delta = 0.1\n",
        "\n",
        "loss_rate_of_change_w = \\\n",
        "  (loss_fn(model(t_u, w + delta, b), t_c) -\n",
        "   loss_fn(model(t_u, w - delta, b), t_c)) / ( 2.0 * delta )"
      ],
      "metadata": {
        "id": "Cfgq3_bObKlH"
      },
      "execution_count": null,
      "outputs": []
    },
    {
      "cell_type": "code",
      "source": [
        "learning_rate = 1e-2\n",
        "\n",
        "w  = w - learning_rate * loss_rate_of_change_w"
      ],
      "metadata": {
        "id": "_l9xoS1hb8aG"
      },
      "execution_count": null,
      "outputs": []
    },
    {
      "cell_type": "code",
      "source": [
        "loss_rate_of_change_b = \\\n",
        "  ( loss_fn( model( t_u, w, b + delta ), t_c ) -\n",
        "    loss_fn( model( t_u, w, b - delta ), t_c ) ) / (2.0 * delta) \n",
        "\n",
        "b = b - learning_rate * loss_rate_of_change_b"
      ],
      "metadata": {
        "id": "-F2g1kuycel6"
      },
      "execution_count": null,
      "outputs": []
    },
    {
      "cell_type": "code",
      "source": [],
      "metadata": {
        "colab": {
          "base_uri": "https://localhost:8080/"
        },
        "id": "Xcbt3GZ_xQer",
        "outputId": "b976e4d6-b627-4676-f825-a1cfa6b6f661"
      },
      "execution_count": null,
      "outputs": [
        {
          "output_type": "execute_result",
          "data": {
            "text/plain": [
              "tensor(-4557.5000)"
            ]
          },
          "metadata": {},
          "execution_count": 29
        }
      ]
    },
    {
      "cell_type": "markdown",
      "source": [
        "Eli nykyisessä w:n ja b:n ympäristössä, LOSSin arvo muuttuu seuraavissa suhteissa pieniin w:n ja b:n muutoksiin"
      ],
      "metadata": {
        "id": "K3-ALVB62aKo"
      }
    },
    {
      "cell_type": "code",
      "source": [
        "loss_rate_of_change_w,loss_rate_of_change_b"
      ],
      "metadata": {
        "colab": {
          "base_uri": "https://localhost:8080/"
        },
        "id": "2cgnWWSPxTt6",
        "outputId": "606b1a4a-c09d-460e-c255-4f65bcabace2"
      },
      "execution_count": null,
      "outputs": [
        {
          "output_type": "execute_result",
          "data": {
            "text/plain": [
              "(tensor(4512.2261), tensor(-4557.5000))"
            ]
          },
          "metadata": {},
          "execution_count": 13
        }
      ]
    },
    {
      "cell_type": "code",
      "source": [
        "def dloss_fn(t_p,t_c):\n",
        "  dsquared_diffs = 2 * ( t_p - t_c) / t_p.size(0) # t_p.size(0) -> 10\n",
        "  return dsquared_diffs"
      ],
      "metadata": {
        "id": "Jf9MC1rUxWLc"
      },
      "execution_count": null,
      "outputs": []
    },
    {
      "cell_type": "code",
      "source": [
        "t_p.size(0)"
      ],
      "metadata": {
        "colab": {
          "base_uri": "https://localhost:8080/"
        },
        "id": "5yOHSTYQzWSt",
        "outputId": "fe3138a1-782d-44ed-bb80-5fd937f78482"
      },
      "execution_count": null,
      "outputs": [
        {
          "output_type": "execute_result",
          "data": {
            "text/plain": [
              "10"
            ]
          },
          "metadata": {},
          "execution_count": 15
        }
      ]
    },
    {
      "cell_type": "code",
      "source": [
        "\n",
        "def dmodel_dw(t_u,w,b):\n",
        "  return t_u\n",
        "\n",
        "\n",
        "def dmodel_db(t_u,w,b):\n",
        "  return 1\n"
      ],
      "metadata": {
        "id": "yE_HzK1EoRa1"
      },
      "execution_count": null,
      "outputs": []
    },
    {
      "cell_type": "code",
      "source": [
        "def grad_fn(t_u,t_c,t_p,w,b):\n",
        "  dloss_dtp = dloss_fn(t_p,t_c)\n",
        "  dloss_dw = dloss_dtp * dmodel_dw(t_u,w,b)\n",
        "  dloss_db = dloss_dtp * dmodel_db(t_u,w,b)\n",
        "  return torch.stack( [ dloss_dw.sum(), dloss_db.sum() ] )"
      ],
      "metadata": {
        "id": "hT9hDUOmzase"
      },
      "execution_count": null,
      "outputs": []
    },
    {
      "cell_type": "code",
      "source": [
        "def training_loop( n_epochs, learning_rate, params, t_u, t_c):\n",
        "  for epoch in range(1, n_epochs + 1):\n",
        "    w, b = params\n",
        "    print(\"W:{}, b:{}\".format(w,b))\n",
        "    t_p = model(t_u,w,b)\n",
        "    loss = loss_fn(t_p,t_c)\n",
        "    grad = grad_fn(t_u,t_c,t_p,w,b)\n",
        "\n",
        "    params = params - learning_rate * grad\n",
        "\n",
        "    print('Epochs %d, Loss %f' % (epoch, float(loss)))\n",
        "\n",
        "  return params"
      ],
      "metadata": {
        "id": "cUDJEhP20XH7"
      },
      "execution_count": null,
      "outputs": []
    },
    {
      "cell_type": "code",
      "source": [
        "training_loop(n_epochs = 100,\n",
        "              learning_rate = 1e-2,\n",
        "              params = torch.tensor([1.0,0.0]),\n",
        "              t_u = t_u,\n",
        "              t_c = t_c)"
      ],
      "metadata": {
        "colab": {
          "base_uri": "https://localhost:8080/"
        },
        "id": "Fui_Kav51sf9",
        "outputId": "0117532f-a1a0-4ede-ccd4-9ffb63e52bf3"
      },
      "execution_count": null,
      "outputs": [
        {
          "output_type": "stream",
          "name": "stdout",
          "text": [
            "W:1.0, b:0.0\n",
            "Epochs 1, Loss 1773.452148\n",
            "W:-44.12224197387695, b:-0.8267999887466431\n",
            "Epochs 2, Loss 5751988.500000\n",
            "W:2548.907470703125, b:44.73957443237305\n",
            "Epochs 3, Loss 18994931712.000000\n",
            "W:-146462.140625, b:-2575.720947265625\n",
            "Epochs 4, Loss 62727775059968.000000\n",
            "W:8416610.0, b:148009.78125\n",
            "Epochs 5, Loss 207148695047634944.000000\n",
            "W:-483669024.0, b:-8505542.0\n",
            "Epochs 6, Loss 684075954249301753856.000000\n",
            "W:27794532352.0, b:488779616.0\n",
            "Epochs 7, Loss 2259053707561858129461248.000000\n",
            "W:-1597240901632.0, b:-28088215552.0\n",
            "Epochs 8, Loss 7460168486342098124332335104.000000\n",
            "W:91787074994176.0, b:1614117863424.0\n",
            "Epochs 9, Loss 24636036786577379134549421719552.000000\n",
            "W:-5274637525057536.0, b:-92756915519488.0\n",
            "Epochs 10, Loss 81356651859010834730600006544261120.000000\n",
            "W:3.031124034726134e+17, b:5330371168174080.0\n",
            "Epochs 11, Loss inf\n",
            "W:-1.7418660019808764e+19, b:-3.0631517776510976e+17\n",
            "Epochs 12, Loss inf\n",
            "W:1.0009811010722023e+21, b:1.7602709470205444e+19\n",
            "Epochs 13, Loss inf\n",
            "W:-5.7522406384574755e+22, b:-1.0115577344283378e+21\n",
            "Epochs 14, Loss inf\n",
            "W:3.305583327493209e+24, b:5.813020768668505e+22\n",
            "Epochs 15, Loss inf\n",
            "W:-1.8995868595970145e+26, b:-3.3405107962448974e+24\n",
            "Epochs 16, Loss inf\n",
            "W:1.0916168054586919e+28, b:1.9196583928887364e+26\n",
            "Epochs 17, Loss inf\n",
            "W:-6.273086232624139e+29, b:-1.103151185593101e+28\n",
            "Epochs 18, Loss inf\n",
            "W:3.604892274731404e+31, b:6.339368990788379e+29\n",
            "Epochs 19, Loss inf\n",
            "W:-2.0715878950682594e+33, b:-3.642982142315166e+31\n",
            "Epochs 20, Loss inf\n",
            "W:1.190458799560988e+35, b:2.0934766866153887e+33\n",
            "Epochs 21, Loss inf\n",
            "W:-inf, b:-1.2030375578177683e+35\n",
            "Epochs 22, Loss inf\n",
            "W:nan, b:inf\n",
            "Epochs 23, Loss nan\n",
            "W:nan, b:nan\n",
            "Epochs 24, Loss nan\n",
            "W:nan, b:nan\n",
            "Epochs 25, Loss nan\n",
            "W:nan, b:nan\n",
            "Epochs 26, Loss nan\n",
            "W:nan, b:nan\n",
            "Epochs 27, Loss nan\n",
            "W:nan, b:nan\n",
            "Epochs 28, Loss nan\n",
            "W:nan, b:nan\n",
            "Epochs 29, Loss nan\n",
            "W:nan, b:nan\n",
            "Epochs 30, Loss nan\n",
            "W:nan, b:nan\n",
            "Epochs 31, Loss nan\n",
            "W:nan, b:nan\n",
            "Epochs 32, Loss nan\n",
            "W:nan, b:nan\n",
            "Epochs 33, Loss nan\n",
            "W:nan, b:nan\n",
            "Epochs 34, Loss nan\n",
            "W:nan, b:nan\n",
            "Epochs 35, Loss nan\n",
            "W:nan, b:nan\n",
            "Epochs 36, Loss nan\n",
            "W:nan, b:nan\n",
            "Epochs 37, Loss nan\n",
            "W:nan, b:nan\n",
            "Epochs 38, Loss nan\n",
            "W:nan, b:nan\n",
            "Epochs 39, Loss nan\n",
            "W:nan, b:nan\n",
            "Epochs 40, Loss nan\n",
            "W:nan, b:nan\n",
            "Epochs 41, Loss nan\n",
            "W:nan, b:nan\n",
            "Epochs 42, Loss nan\n",
            "W:nan, b:nan\n",
            "Epochs 43, Loss nan\n",
            "W:nan, b:nan\n",
            "Epochs 44, Loss nan\n",
            "W:nan, b:nan\n",
            "Epochs 45, Loss nan\n",
            "W:nan, b:nan\n",
            "Epochs 46, Loss nan\n",
            "W:nan, b:nan\n",
            "Epochs 47, Loss nan\n",
            "W:nan, b:nan\n",
            "Epochs 48, Loss nan\n",
            "W:nan, b:nan\n",
            "Epochs 49, Loss nan\n",
            "W:nan, b:nan\n",
            "Epochs 50, Loss nan\n",
            "W:nan, b:nan\n",
            "Epochs 51, Loss nan\n",
            "W:nan, b:nan\n",
            "Epochs 52, Loss nan\n",
            "W:nan, b:nan\n",
            "Epochs 53, Loss nan\n",
            "W:nan, b:nan\n",
            "Epochs 54, Loss nan\n",
            "W:nan, b:nan\n",
            "Epochs 55, Loss nan\n",
            "W:nan, b:nan\n",
            "Epochs 56, Loss nan\n",
            "W:nan, b:nan\n",
            "Epochs 57, Loss nan\n",
            "W:nan, b:nan\n",
            "Epochs 58, Loss nan\n",
            "W:nan, b:nan\n",
            "Epochs 59, Loss nan\n",
            "W:nan, b:nan\n",
            "Epochs 60, Loss nan\n",
            "W:nan, b:nan\n",
            "Epochs 61, Loss nan\n",
            "W:nan, b:nan\n",
            "Epochs 62, Loss nan\n",
            "W:nan, b:nan\n",
            "Epochs 63, Loss nan\n",
            "W:nan, b:nan\n",
            "Epochs 64, Loss nan\n",
            "W:nan, b:nan\n",
            "Epochs 65, Loss nan\n",
            "W:nan, b:nan\n",
            "Epochs 66, Loss nan\n",
            "W:nan, b:nan\n",
            "Epochs 67, Loss nan\n",
            "W:nan, b:nan\n",
            "Epochs 68, Loss nan\n",
            "W:nan, b:nan\n",
            "Epochs 69, Loss nan\n",
            "W:nan, b:nan\n",
            "Epochs 70, Loss nan\n",
            "W:nan, b:nan\n",
            "Epochs 71, Loss nan\n",
            "W:nan, b:nan\n",
            "Epochs 72, Loss nan\n",
            "W:nan, b:nan\n",
            "Epochs 73, Loss nan\n",
            "W:nan, b:nan\n",
            "Epochs 74, Loss nan\n",
            "W:nan, b:nan\n",
            "Epochs 75, Loss nan\n",
            "W:nan, b:nan\n",
            "Epochs 76, Loss nan\n",
            "W:nan, b:nan\n",
            "Epochs 77, Loss nan\n",
            "W:nan, b:nan\n",
            "Epochs 78, Loss nan\n",
            "W:nan, b:nan\n",
            "Epochs 79, Loss nan\n",
            "W:nan, b:nan\n",
            "Epochs 80, Loss nan\n",
            "W:nan, b:nan\n",
            "Epochs 81, Loss nan\n",
            "W:nan, b:nan\n",
            "Epochs 82, Loss nan\n",
            "W:nan, b:nan\n",
            "Epochs 83, Loss nan\n",
            "W:nan, b:nan\n",
            "Epochs 84, Loss nan\n",
            "W:nan, b:nan\n",
            "Epochs 85, Loss nan\n",
            "W:nan, b:nan\n",
            "Epochs 86, Loss nan\n",
            "W:nan, b:nan\n",
            "Epochs 87, Loss nan\n",
            "W:nan, b:nan\n",
            "Epochs 88, Loss nan\n",
            "W:nan, b:nan\n",
            "Epochs 89, Loss nan\n",
            "W:nan, b:nan\n",
            "Epochs 90, Loss nan\n",
            "W:nan, b:nan\n",
            "Epochs 91, Loss nan\n",
            "W:nan, b:nan\n",
            "Epochs 92, Loss nan\n",
            "W:nan, b:nan\n",
            "Epochs 93, Loss nan\n",
            "W:nan, b:nan\n",
            "Epochs 94, Loss nan\n",
            "W:nan, b:nan\n",
            "Epochs 95, Loss nan\n",
            "W:nan, b:nan\n",
            "Epochs 96, Loss nan\n",
            "W:nan, b:nan\n",
            "Epochs 97, Loss nan\n",
            "W:nan, b:nan\n",
            "Epochs 98, Loss nan\n",
            "W:nan, b:nan\n",
            "Epochs 99, Loss nan\n",
            "W:nan, b:nan\n",
            "Epochs 100, Loss nan\n"
          ]
        },
        {
          "output_type": "execute_result",
          "data": {
            "text/plain": [
              "tensor([nan, nan])"
            ]
          },
          "metadata": {},
          "execution_count": 26
        }
      ]
    },
    {
      "cell_type": "code",
      "source": [],
      "metadata": {
        "id": "1BwQmSuS19sH"
      },
      "execution_count": null,
      "outputs": []
    }
  ]
}