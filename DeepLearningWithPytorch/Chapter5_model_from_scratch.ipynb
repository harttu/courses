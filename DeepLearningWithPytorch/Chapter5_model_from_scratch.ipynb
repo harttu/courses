{
  "nbformat": 4,
  "nbformat_minor": 0,
  "metadata": {
    "colab": {
      "name": "Chapter5_model_from_scratch.ipynb",
      "provenance": [],
      "authorship_tag": "ABX9TyMkjb+MKlbE1k3wG8WWnKoj",
      "include_colab_link": true
    },
    "kernelspec": {
      "name": "python3",
      "display_name": "Python 3"
    },
    "language_info": {
      "name": "python"
    }
  },
  "cells": [
    {
      "cell_type": "markdown",
      "metadata": {
        "id": "view-in-github",
        "colab_type": "text"
      },
      "source": [
        "<a href=\"https://colab.research.google.com/github/harttu/courses/blob/main/DeepLearningWithPytorch/Chapter5_model_from_scratch.ipynb\" target=\"_parent\"><img src=\"https://colab.research.google.com/assets/colab-badge.svg\" alt=\"Open In Colab\"/></a>"
      ]
    },
    {
      "cell_type": "markdown",
      "source": [
        ""
      ],
      "metadata": {
        "id": "U0mqYetXZSqp"
      }
    },
    {
      "cell_type": "code",
      "source": [
        "import torch"
      ],
      "metadata": {
        "id": "ufVmo7u2al_Y"
      },
      "execution_count": null,
      "outputs": []
    },
    {
      "cell_type": "code",
      "execution_count": null,
      "metadata": {
        "id": "8AbU33gbYQb-"
      },
      "outputs": [],
      "source": [
        "t_c = [ 0.5, 14.0, 28.0, 11.0,  8.0,  3.0, -4.0,  6.0, 13.0, 21.0 ]\n",
        "t_u = [35.7, 58.2, 81.9, 56.3, 48.9, 33.9, 21.8, 48.4, 60.4, 68.4 ]\n",
        "t_c = torch.tensor(t_c)\n",
        "t_u = torch.tensor(t_u)"
      ]
    },
    {
      "cell_type": "code",
      "source": [
        "def model(t_u, w, b):\n",
        "  return w * t_u + b\n",
        "\n",
        "def loss_fn(t_p,t_c):\n",
        "  return ((t_p - t_c ) ** 2).mean()\n"
      ],
      "metadata": {
        "id": "g8ACRe64ZSP0"
      },
      "execution_count": 41,
      "outputs": []
    },
    {
      "cell_type": "code",
      "source": [
        "w = torch.ones(())\n",
        "b = torch.zeros(())"
      ],
      "metadata": {
        "id": "RyKoFLPLaNtW"
      },
      "execution_count": null,
      "outputs": []
    },
    {
      "cell_type": "code",
      "source": [
        "t_p = model(t_u,w,b)"
      ],
      "metadata": {
        "id": "5-Kh-9tZaBt5"
      },
      "execution_count": null,
      "outputs": []
    },
    {
      "cell_type": "code",
      "source": [
        "t_p,t_c"
      ],
      "metadata": {
        "colab": {
          "base_uri": "https://localhost:8080/"
        },
        "id": "Y-0IukTBbM2S",
        "outputId": "45d78001-d5cd-4d06-bad2-1c7085130826"
      },
      "execution_count": null,
      "outputs": [
        {
          "output_type": "execute_result",
          "data": {
            "text/plain": [
              "(tensor([35.7000, 58.2000, 81.9000, 56.3000, 48.9000, 33.9000, 21.8000, 48.4000,\n",
              "         60.4000, 68.4000]),\n",
              " tensor([ 0.5000, 14.0000, 28.0000, 11.0000,  8.0000,  3.0000, -4.0000,  6.0000,\n",
              "         13.0000, 21.0000]))"
            ]
          },
          "metadata": {},
          "execution_count": 23
        }
      ]
    },
    {
      "cell_type": "code",
      "source": [
        "loss_fn(t_p,t_c)"
      ],
      "metadata": {
        "colab": {
          "base_uri": "https://localhost:8080/"
        },
        "id": "n-lmZMOObHy_",
        "outputId": "8d1a0f3e-76fc-4713-e988-9ecb4f9767f8"
      },
      "execution_count": 42,
      "outputs": [
        {
          "output_type": "execute_result",
          "data": {
            "text/plain": [
              "tensor(1773.4521)"
            ]
          },
          "metadata": {},
          "execution_count": 42
        }
      ]
    },
    {
      "cell_type": "markdown",
      "source": [
        "Naivi tapa laskea kulmakerrointa. Ei skaalaudu"
      ],
      "metadata": {
        "id": "S8_MzWO_b_0W"
      }
    },
    {
      "cell_type": "code",
      "source": [
        "delta = 0.1\n",
        "\n",
        "loss_rate_of_change_w = \\\n",
        "  (loss(model(t_u, w + delta, b), t_c) -\n",
        "   loss(model(t_u, w - delta, b), t_c)) / ( 2.0 * delta )"
      ],
      "metadata": {
        "id": "Cfgq3_bObKlH"
      },
      "execution_count": null,
      "outputs": []
    },
    {
      "cell_type": "code",
      "source": [
        "learning_rate = 1e-2\n",
        "\n",
        "w  = w - learning_rate * loss_rate_of_change_w"
      ],
      "metadata": {
        "id": "_l9xoS1hb8aG"
      },
      "execution_count": null,
      "outputs": []
    },
    {
      "cell_type": "code",
      "source": [
        "loss_rate_of_change_b = \\\n",
        "  ( loss( model( t_u, w, b + delta ), t_c ) -\n",
        "    loss( model( t_u, w, b - delta ), t_c ) ) / (2.0 * delta) \n",
        "\n",
        "b = b - learning_rate * loss_rate_of_change_b"
      ],
      "metadata": {
        "id": "-F2g1kuycel6"
      },
      "execution_count": null,
      "outputs": []
    },
    {
      "cell_type": "code",
      "source": [
        ""
      ],
      "metadata": {
        "colab": {
          "base_uri": "https://localhost:8080/"
        },
        "id": "Xcbt3GZ_xQer",
        "outputId": "b976e4d6-b627-4676-f825-a1cfa6b6f661"
      },
      "execution_count": null,
      "outputs": [
        {
          "output_type": "execute_result",
          "data": {
            "text/plain": [
              "tensor(-4557.5000)"
            ]
          },
          "metadata": {},
          "execution_count": 29
        }
      ]
    },
    {
      "cell_type": "markdown",
      "source": [
        "Eli nykyisessä w:n ja b:n ympäristössä, LOSSin arvo muuttuu seuraavissa suhteissa pieniin w:n ja b:n muutoksiin"
      ],
      "metadata": {
        "id": "K3-ALVB62aKo"
      }
    },
    {
      "cell_type": "code",
      "source": [
        "loss_rate_of_change_w,loss_rate_of_change_b"
      ],
      "metadata": {
        "colab": {
          "base_uri": "https://localhost:8080/"
        },
        "id": "2cgnWWSPxTt6",
        "outputId": "325961c2-7aef-4c51-cc23-d420769f9974"
      },
      "execution_count": null,
      "outputs": [
        {
          "output_type": "execute_result",
          "data": {
            "text/plain": [
              "(tensor(4512.2261), tensor(-4557.5000))"
            ]
          },
          "metadata": {},
          "execution_count": 31
        }
      ]
    },
    {
      "cell_type": "code",
      "source": [
        "def dloss_fn(t_p,t_c):\n",
        "  dsquared_diffs = 2 * ( t_p - t_c) / t_p.size(0) # t_p.size(0) -> 10\n",
        "  return dsquared_diffs"
      ],
      "metadata": {
        "id": "Jf9MC1rUxWLc"
      },
      "execution_count": 44,
      "outputs": []
    },
    {
      "cell_type": "code",
      "source": [
        "t_p.size(0)"
      ],
      "metadata": {
        "colab": {
          "base_uri": "https://localhost:8080/"
        },
        "id": "5yOHSTYQzWSt",
        "outputId": "e2ee4885-d4b6-4b28-c6b6-49a3ecff540d"
      },
      "execution_count": 45,
      "outputs": [
        {
          "output_type": "execute_result",
          "data": {
            "text/plain": [
              "10"
            ]
          },
          "metadata": {},
          "execution_count": 45
        }
      ]
    },
    {
      "cell_type": "code",
      "source": [
        "def grad_fn(t_u,t_c,t_p,w,b):\n",
        "  dloss_dtp = dloss_fn(t_p,t_c)\n",
        "  dloss_dw = dloss_dtp * dmodel_dw(t_u,w,b)\n",
        "  dloss_db = dloss_dtp * dmodel_db(t_u,w,b)\n",
        "  return torch.stack( [ dloss_dw.sum(), dloss_db.sum() ] )"
      ],
      "metadata": {
        "id": "hT9hDUOmzase"
      },
      "execution_count": 36,
      "outputs": []
    },
    {
      "cell_type": "code",
      "source": [
        "def training_loop( n_epochs, learning_rate, params, t_u, t_c):\n",
        "  for epoch in range(1, n_epochs + 1):\n",
        "    w, b = params\n",
        "    t_p = model(t_u,w,b)\n",
        "    loss = loss_fn(t_p,t_c)\n",
        "    grad = grad_fn(t_u,t_c,w,b)\n",
        "\n",
        "    params = params - learning_rate * grd\n",
        "\n",
        "    print('Epochs %d, Loss %f' % (epoch, float(loss)))\n",
        "\n",
        "  return params"
      ],
      "metadata": {
        "id": "cUDJEhP20XH7"
      },
      "execution_count": 37,
      "outputs": []
    },
    {
      "cell_type": "code",
      "source": [
        "training_loop(n_epochs = 100,\n",
        "              learning_rate = 1e-2,\n",
        "              params = torch.tensor([1.0,0.0]),\n",
        "              t_u = t_u,\n",
        "              t_c = t_c)"
      ],
      "metadata": {
        "colab": {
          "base_uri": "https://localhost:8080/",
          "height": 316
        },
        "id": "Fui_Kav51sf9",
        "outputId": "e2ad2de9-51b2-4263-df9a-24f34f65fd9b"
      },
      "execution_count": 40,
      "outputs": [
        {
          "output_type": "error",
          "ename": "UnboundLocalError",
          "evalue": "ignored",
          "traceback": [
            "\u001b[0;31m---------------------------------------------------------------------------\u001b[0m",
            "\u001b[0;31mUnboundLocalError\u001b[0m                         Traceback (most recent call last)",
            "\u001b[0;32m<ipython-input-40-5100a320a148>\u001b[0m in \u001b[0;36m<module>\u001b[0;34m()\u001b[0m\n\u001b[1;32m      3\u001b[0m               \u001b[0mparams\u001b[0m \u001b[0;34m=\u001b[0m \u001b[0mtorch\u001b[0m\u001b[0;34m.\u001b[0m\u001b[0mtensor\u001b[0m\u001b[0;34m(\u001b[0m\u001b[0;34m[\u001b[0m\u001b[0;36m1.0\u001b[0m\u001b[0;34m,\u001b[0m\u001b[0;36m0.0\u001b[0m\u001b[0;34m]\u001b[0m\u001b[0;34m)\u001b[0m\u001b[0;34m,\u001b[0m\u001b[0;34m\u001b[0m\u001b[0;34m\u001b[0m\u001b[0m\n\u001b[1;32m      4\u001b[0m               \u001b[0mt_u\u001b[0m \u001b[0;34m=\u001b[0m \u001b[0mt_u\u001b[0m\u001b[0;34m,\u001b[0m\u001b[0;34m\u001b[0m\u001b[0;34m\u001b[0m\u001b[0m\n\u001b[0;32m----> 5\u001b[0;31m               t_c = t_c)\n\u001b[0m",
            "\u001b[0;32m<ipython-input-37-91d85338ca2a>\u001b[0m in \u001b[0;36mtraining_loop\u001b[0;34m(n_epochs, learning_rate, params, t_u, t_c)\u001b[0m\n\u001b[1;32m      3\u001b[0m     \u001b[0mw\u001b[0m\u001b[0;34m,\u001b[0m \u001b[0mb\u001b[0m \u001b[0;34m=\u001b[0m \u001b[0mparams\u001b[0m\u001b[0;34m\u001b[0m\u001b[0;34m\u001b[0m\u001b[0m\n\u001b[1;32m      4\u001b[0m     \u001b[0mt_p\u001b[0m \u001b[0;34m=\u001b[0m \u001b[0mmodel\u001b[0m\u001b[0;34m(\u001b[0m\u001b[0mt_u\u001b[0m\u001b[0;34m,\u001b[0m\u001b[0mw\u001b[0m\u001b[0;34m,\u001b[0m\u001b[0mb\u001b[0m\u001b[0;34m)\u001b[0m\u001b[0;34m\u001b[0m\u001b[0;34m\u001b[0m\u001b[0m\n\u001b[0;32m----> 5\u001b[0;31m     \u001b[0mloss\u001b[0m \u001b[0;34m=\u001b[0m \u001b[0mloss\u001b[0m\u001b[0;34m(\u001b[0m\u001b[0mt_p\u001b[0m\u001b[0;34m,\u001b[0m\u001b[0mt_c\u001b[0m\u001b[0;34m)\u001b[0m\u001b[0;34m\u001b[0m\u001b[0;34m\u001b[0m\u001b[0m\n\u001b[0m\u001b[1;32m      6\u001b[0m     \u001b[0mgrad\u001b[0m \u001b[0;34m=\u001b[0m \u001b[0mgrd\u001b[0m\u001b[0;34m(\u001b[0m\u001b[0mt_u\u001b[0m\u001b[0;34m,\u001b[0m\u001b[0mt_c\u001b[0m\u001b[0;34m,\u001b[0m\u001b[0mw\u001b[0m\u001b[0;34m,\u001b[0m\u001b[0mb\u001b[0m\u001b[0;34m)\u001b[0m\u001b[0;34m\u001b[0m\u001b[0;34m\u001b[0m\u001b[0m\n\u001b[1;32m      7\u001b[0m \u001b[0;34m\u001b[0m\u001b[0m\n",
            "\u001b[0;31mUnboundLocalError\u001b[0m: local variable 'loss' referenced before assignment"
          ]
        }
      ]
    },
    {
      "cell_type": "code",
      "source": [
        ""
      ],
      "metadata": {
        "id": "1BwQmSuS19sH"
      },
      "execution_count": null,
      "outputs": []
    }
  ]
}