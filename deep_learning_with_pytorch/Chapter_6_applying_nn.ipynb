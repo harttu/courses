{
  "nbformat": 4,
  "nbformat_minor": 0,
  "metadata": {
    "colab": {
      "provenance": [],
      "authorship_tag": "ABX9TyNiXx6hU/Vpq+iecSRdsZv9",
      "include_colab_link": true
    },
    "kernelspec": {
      "name": "python3",
      "display_name": "Python 3"
    },
    "language_info": {
      "name": "python"
    }
  },
  "cells": [
    {
      "cell_type": "markdown",
      "metadata": {
        "id": "view-in-github",
        "colab_type": "text"
      },
      "source": [
        "<a href=\"https://colab.research.google.com/github/harttu/courses/blob/main/deep_learning_with_pytorch/Chapter_6_applying_nn.ipynb\" target=\"_parent\"><img src=\"https://colab.research.google.com/assets/colab-badge.svg\" alt=\"Open In Colab\"/></a>"
      ]
    },
    {
      "cell_type": "markdown",
      "source": [
        "# Chapter 6 - Applying nn on t_c and t_u"
      ],
      "metadata": {
        "id": "oidrtShN6tdt"
      }
    },
    {
      "cell_type": "code",
      "source": [
        "import torch\n",
        "import torch.nn as nn\n",
        "import matplotlib.pyplot as plt\n",
        "import numpy as np"
      ],
      "metadata": {
        "id": "49zKuMIZSSnQ"
      },
      "execution_count": 37,
      "outputs": []
    },
    {
      "cell_type": "markdown",
      "source": [
        "## Luodaan oma malli"
      ],
      "metadata": {
        "id": "W5IIg8tiWtzp"
      }
    },
    {
      "cell_type": "code",
      "source": [
        "def malli(x,malli_etu_w,malli_etu_b,malli_taka_w,malli_taka_b):\n",
        "  vali = torch.tanh(x * malli_etu_w + malli_etu_b)\n",
        "  output = torch.matmul(vali,malli_taka_w) + malli_taka_b\n",
        "  return(output)"
      ],
      "metadata": {
        "id": "u6mIY4xMtXgn"
      },
      "execution_count": 38,
      "outputs": []
    },
    {
      "cell_type": "code",
      "source": [
        "# kaksi lämpömittaria\n",
        "# toisesta saadaan arvo, ja haluttaisiin sen avulla tietää mitä toisessa on\n",
        "gold = torch.tensor([ [-4.0], [0.5], [3.0], [6.0], [8.0], [11.0], [13.0], [14.0], [21.0], [28.0] ]) # celcius-mittari\n",
        "x = torch.tensor([ [21.8], [35.7], [33.9], [48.4], [48.9], [56.3], [60.4], [58.2], [68.4], [81.9]]) # Farhenheit\n",
        "\n",
        "gold = gold#t_c#.unsqueeze(1)\n",
        "x = 0.1 * x#t_u#.unsqueeze(1)"
      ],
      "metadata": {
        "id": "AQLgEtIswM4r"
      },
      "execution_count": 63,
      "outputs": []
    },
    {
      "cell_type": "code",
      "source": [
        "fig, axes = plt.subplots(nrows=1, ncols=1, figsize=(10, 2))\n",
        "\n",
        "axes.plot(range(0,10), gold.detach().numpy(), color='blue', label='Line 1')\n",
        "axes.plot(range(0,10), x.detach().numpy(), color='red', label='Line 2')\n",
        "\n",
        "plt.tight_layout()  # Adjust spacing between subplots\n",
        "plt.show()"
      ],
      "metadata": {
        "colab": {
          "base_uri": "https://localhost:8080/",
          "height": 207
        },
        "id": "TfHJ_1dvNToc",
        "outputId": "89d78200-e539-4cc2-a344-eef51b86fe86"
      },
      "execution_count": 64,
      "outputs": [
        {
          "output_type": "display_data",
          "data": {
            "text/plain": [
              "<Figure size 1000x200 with 1 Axes>"
            ],
            "image/png": "[encoded data removed]"
          },
          "metadata": {}
        }
      ]
    },
    {
      "cell_type": "markdown",
      "source": [
        "Esimerkki tensorien laskutoimituksista"
      ],
      "metadata": {
        "id": "qmCYDBxeQ4Tz"
      }
    },
    {
      "cell_type": "code",
      "source": [
        "malli_etu_w = torch.tensor([0.4 , 0.1], requires_grad = True)\n",
        "malli_etu_b = torch.tensor([0.2] , requires_grad = True)\n",
        "\n",
        "x_esim = torch.tensor([[1],[2],[3]])\n",
        "\n",
        "vali = torch.tanh(x_esim * malli_etu_w + malli_etu_b)\n",
        "#vali,vali.shape\n",
        "\n",
        "malli_taka_w = torch.tensor([ [ 0.2 ] , [ 0.8 ] ], requires_grad = True)\n",
        "malli_taka_b = torch.tensor([0.15], requires_grad = True)\n",
        "\n",
        "#vali, malli_taka_w, vali.shape, malli_taka_w.shape#, vali * malli_taka_w\n",
        "output = torch.matmul(vali,malli_taka_w) + malli_taka_b\n",
        "output"
      ],
      "metadata": {
        "id": "dDjNvGdmebkQ",
        "colab": {
          "base_uri": "https://localhost:8080/"
        },
        "outputId": "a9cc8e36-026a-4e79-8bd0-e025ee95f0db"
      },
      "execution_count": 65,
      "outputs": [
        {
          "output_type": "execute_result",
          "data": {
            "text/plain": [
              "tensor([[0.4905],\n",
              "        [0.6063],\n",
              "        [0.6968]], grad_fn=<AddBackward0>)"
            ]
          },
          "metadata": {},
          "execution_count": 65
        }
      ]
    },
    {
      "cell_type": "code",
      "source": [
        "loss_f = torch.nn.MSELoss()\n",
        "#optimizer  = torch.optim.SGD(seq_model.parameters(), lr=0.01)\n",
        "epochs = 1000\n",
        "losses = []\n",
        "lr = 0.005\n",
        "\n",
        "dimensiot = 11\n",
        "\n",
        "malli_etu_w = torch.rand((1,dimensiot), requires_grad = True)\n",
        "malli_etu_b = torch.rand((1,1), requires_grad = True)\n",
        "malli_taka_w = torch.rand((dimensiot,1), requires_grad = True)\n",
        "malli_taka_b = torch.rand((1,1), requires_grad = True)\n",
        "\n",
        "fig, axes = plt.subplots(nrows=1, ncols=1, figsize=(10, 2))\n",
        "axes.plot(range(0,10), gold.detach().numpy(), color='blue', label='Line 1')\n",
        "\n",
        "# Alku- ja loppupisteet\n",
        "pink = np.array([1, 0.6, 0.6])\n",
        "red = np.array([1, 0, 0])\n",
        "\n",
        "# Luo liukuma\n",
        "colors = np.array([pink + i/11 * (red - pink) for i in range(12)])\n",
        "y=0\n",
        "\n",
        "for i in range(1,epochs  + 1):\n",
        "  preds = malli(x,malli_etu_w,malli_etu_b,malli_taka_w,malli_taka_b)\n",
        "\n",
        "  loss = loss_f(preds,gold)\n",
        "\n",
        "  if malli_etu_w.grad is not None:\n",
        "    malli_etu_w.grad.zero_()\n",
        "  if malli_etu_b.grad is not None:\n",
        "    malli_etu_b.grad.zero_()\n",
        "  if malli_taka_w.grad is not None:\n",
        "    malli_taka_w.grad.zero_()\n",
        "  if malli_taka_b.grad is not None:\n",
        "    malli_taka_b.grad.zero_()\n",
        "\n",
        "  loss.backward()\n",
        "  #optimizer.step()\n",
        "  with torch.no_grad():\n",
        "    malli_etu_w -= malli_etu_w.grad * lr#.step()#.zero_grad()\n",
        "    malli_etu_b -= malli_etu_b.grad * lr#.step()#.zero_grad()\n",
        "    malli_taka_w -= malli_taka_w.grad * lr#.step()#.zero_grad()\n",
        "    malli_taka_b -= malli_taka_b.grad * lr#.step()#.zero_grad()\n",
        "\n",
        "  #losses.append(loss.detach().numpy())\n",
        "  if i == 1 or i % (epochs / 10) == 0:\n",
        "    y = y + 1\n",
        "    axes.plot(range(0,10), preds.detach().numpy(), color=colors[y], label='Line 2'+str(y))\n",
        "    print(f\"i: {i} - loss: {loss.item()} \")\n",
        "\n",
        "plt.tight_layout()  # Adjust spacing between subplots\n",
        "plt.show()"
      ],
      "metadata": {
        "colab": {
          "base_uri": "https://localhost:8080/",
          "height": 398
        },
        "id": "u7WrnHYtuWt8",
        "outputId": "af818adf-bd6d-411d-da05-e072d7ae528a"
      },
      "execution_count": 66,
      "outputs": [
        {
          "output_type": "stream",
          "name": "stdout",
          "text": [
            "i: 1 - loss: 90.75997161865234 \n",
            "i: 100 - loss: 24.383533477783203 \n",
            "i: 200 - loss: 19.538429260253906 \n",
            "i: 300 - loss: 15.22276782989502 \n",
            "i: 400 - loss: 11.681200981140137 \n",
            "i: 500 - loss: 7.874270439147949 \n",
            "i: 600 - loss: 3.945157289505005 \n",
            "i: 700 - loss: 2.161421537399292 \n",
            "i: 800 - loss: 1.4936062097549438 \n",
            "i: 900 - loss: 1.1186186075210571 \n",
            "i: 1000 - loss: 0.9313950538635254 \n"
          ]
        },
        {
          "output_type": "display_data",
          "data": {
            "text/plain": [
              "<Figure size 1000x200 with 1 Axes>"
            ],
            "image/png": "[encoded data removed]"
          },
          "metadata": {}
        }
      ]
    },
    {
      "cell_type": "code",
      "source": [
        "fig, axes = plt.subplots(nrows=1, ncols = 1, figsize=(10,2))\n",
        "\n",
        "axes.plot(range(0,10), preds.detach().numpy(), color=\"red\", label=\"Malli\")\n",
        "axes.plot(range(0,10), gold.detach().numpy(), color='blue', label='Line 1')\n",
        "\n",
        "plt.tight_layout()\n",
        "plt.show()"
      ],
      "metadata": {
        "colab": {
          "base_uri": "https://localhost:8080/",
          "height": 207
        },
        "id": "WP04F2JVPRp2",
        "outputId": "7bd5096b-9651-4c09-ae8e-362831bd5a91"
      },
      "execution_count": 67,
      "outputs": [
        {
          "output_type": "display_data",
          "data": {
            "text/plain": [
              "<Figure size 1000x200 with 1 Axes>"
            ],
            "image/png": "[encoded data removed]"
          },
          "metadata": {}
        }
      ]
    },
    {
      "cell_type": "code",
      "source": [
        "from collections import OrderedDict\n",
        "\n",
        "seq_model = nn.Sequential(\n",
        "    OrderedDict(\n",
        "    [\n",
        "      ('hidden_linear', nn.Linear(1,8)),\n",
        "      ('hidden_activation', nn.Tanh()),\n",
        "      ('output_linear', nn.Linear(8,1))\n",
        "    ] )\n",
        "    )"
      ],
      "metadata": {
        "id": "g60dBAGhzDS2"
      },
      "execution_count": 68,
      "outputs": []
    },
    {
      "cell_type": "code",
      "source": [
        "import matplotlib.pyplot as plt\n",
        "\n",
        "fig, axes = plt.subplots(nrows=1, ncols=1, figsize=(10, 2))\n",
        "\n",
        "axes.plot(range(0,10), gold.detach().numpy(), color='blue', label='Line 1')\n",
        "axes.plot(range(0,10), x.detach().numpy(), color='red', label='Line 2')\n",
        "\n",
        "plt.tight_layout()  # Adjust spacing between subplots\n",
        "plt.show()"
      ],
      "metadata": {
        "colab": {
          "base_uri": "https://localhost:8080/",
          "height": 207
        },
        "id": "FRCWrO3-1-gI",
        "outputId": "844ebb6d-f15a-43b0-b99f-f4f054973dda"
      },
      "execution_count": 69,
      "outputs": [
        {
          "output_type": "display_data",
          "data": {
            "text/plain": [
              "<Figure size 1000x200 with 1 Axes>"
            ],
            "image/png": "[encoded data removed]"
          },
          "metadata": {}
        }
      ]
    },
    {
      "cell_type": "code",
      "source": [
        "seq_model = nn.Sequential(\n",
        "    nn.Linear(1,13),\n",
        "    nn.Tanh(),\n",
        "    nn.Linear(13,1))\n",
        "\n",
        "loss_f = torch.nn.MSELoss()\n",
        "optimizer  = torch.optim.SGD(seq_model.parameters(), lr=0.01)\n",
        "epochs = 5000\n",
        "losses = []\n",
        "\n",
        "for i in range(1,epochs  + 1):\n",
        "  preds = seq_model(x)\n",
        "  loss = loss_f(preds,gold)\n",
        "  optimizer.zero_grad()\n",
        "  loss.backward()\n",
        "  optimizer.step()\n",
        "  #losses.append(loss.detach().numpy())\n",
        "  if i == 1 or i % (epochs / 10) == 0:\n",
        "    print(f\"i: {i} - loss: {loss.item()} \")"
      ],
      "metadata": {
        "colab": {
          "base_uri": "https://localhost:8080/"
        },
        "id": "UKJf6LA01eJy",
        "outputId": "1b368138-a4d1-4708-c8c8-b60990f9689b"
      },
      "execution_count": 70,
      "outputs": [
        {
          "output_type": "stream",
          "name": "stdout",
          "text": [
            "i: 1 - loss: 178.20291137695312 \n",
            "i: 500 - loss: 39.47871017456055 \n",
            "i: 1000 - loss: 4.372028827667236 \n",
            "i: 1500 - loss: 2.619494915008545 \n",
            "i: 2000 - loss: 1.6172130107879639 \n",
            "i: 2500 - loss: 1.2538495063781738 \n",
            "i: 3000 - loss: 1.154520869255066 \n",
            "i: 3500 - loss: 1.0998612642288208 \n",
            "i: 4000 - loss: 1.0631169080734253 \n",
            "i: 4500 - loss: 1.0355939865112305 \n",
            "i: 5000 - loss: 1.0135791301727295 \n"
          ]
        }
      ]
    },
    {
      "cell_type": "code",
      "source": [
        "import matplotlib.pyplot as plt\n",
        "\n",
        "fig, axes = plt.subplots(nrows=1, ncols=1, figsize=(10, 2))\n",
        "\n",
        "axes.plot(range(0,10), gold.detach().numpy(), color='blue', label='Line 1')\n",
        "axes.plot(range(0,10), seq_model(x).detach().numpy(), color='red', label='Line 2')\n",
        "\n",
        "plt.tight_layout()  # Adjust spacing between subplots\n",
        "plt.show()"
      ],
      "metadata": {
        "colab": {
          "base_uri": "https://localhost:8080/",
          "height": 207
        },
        "id": "Ym7fweDYZqwb",
        "outputId": "71ec7027-2984-42b1-852b-029730807222"
      },
      "execution_count": 40,
      "outputs": [
        {
          "output_type": "display_data",
          "data": {
            "text/plain": [
              "<Figure size 1000x200 with 1 Axes>"
            ],
            "image/png": "[encoded data removed]"
          },
          "metadata": {}
        }
      ]
    },
    {
      "cell_type": "code",
      "source": [
        "def training_loop(n_epochs, optimizer, model, loss_fn, t_u_train, t_u_val,\n",
        "    t_c_train, t_c_val):\n",
        "    for epoch in range(1, n_epochs + 1):\n",
        "        t_p_train = model(t_u_train)               # The model is now\n",
        "        loss_train = loss_fn(t_p_train, t_c_train) # passed in, instead of\n",
        "        t_p_val = model(t_u_val)                   # the individual params.\n",
        "        loss_val = loss_fn(t_p_val, t_c_val)\n",
        "        optimizer.zero_grad()\n",
        "        loss_train.backward() # The loss function is also passed\n",
        "        optimizer.step()      # in. We’ll use it in a moment.\n",
        "\n",
        "        if epoch == 1 or epoch % 1000 == 0:\n",
        "            print(f\"Epoch {epoch}, Training loss {loss_train.item():.4f},\"\n",
        "                f\" Validation loss {loss_val.item():.4f}\")"
      ],
      "metadata": {
        "id": "VUjAP-AdU-ye"
      },
      "execution_count": 41,
      "outputs": []
    },
    {
      "cell_type": "code",
      "source": [
        "t_c = [ 0.5, 14.0, 28.0, 11.0,  8.0,  3.0, -4.0,  6.0, 13.0, 21.0 ]\n",
        "t_u = [35.7, 58.2, 81.9, 56.3, 48.9, 33.9, 21.8, 48.4, 60.4, 68.4 ]\n",
        "t_c = torch.tensor(t_c)\n",
        "t_u = torch.tensor(t_u)"
      ],
      "metadata": {
        "id": "rglck4IaTMua"
      },
      "execution_count": 42,
      "outputs": []
    },
    {
      "cell_type": "code",
      "source": [
        "n_samples = t_u.shape[0]\n",
        "n_val = int(0.2 * n_samples)\n",
        "\n",
        "shuffled_indices = torch.randperm(n_samples)"
      ],
      "metadata": {
        "id": "HS9J6OmzTUVG"
      },
      "execution_count": 20,
      "outputs": []
    },
    {
      "cell_type": "code",
      "source": [
        "train_indices = shuffled_indices[:-n_val]\n",
        "val_indices = shuffled_indices[-n_val:]\n",
        "train_indices, val_indices"
      ],
      "metadata": {
        "colab": {
          "base_uri": "https://localhost:8080/"
        },
        "id": "sm5nCRwHTU_i",
        "outputId": "21bccc82-4e4e-4403-a85d-87ae4aee8f3b"
      },
      "execution_count": 21,
      "outputs": [
        {
          "output_type": "execute_result",
          "data": {
            "text/plain": [
              "(tensor([6, 3, 2, 5, 7, 4, 9, 8]), tensor([0, 1]))"
            ]
          },
          "metadata": {},
          "execution_count": 21
        }
      ]
    },
    {
      "cell_type": "code",
      "source": [
        "t_u_train = t_u[train_indices]\n",
        "t_c_train = t_c[train_indices]\n",
        "\n",
        "t_u_val = t_u[val_indices]\n",
        "t_c_val = t_c[val_indices]\n",
        "\n",
        "t_un_train = 0.1 * t_u_train\n",
        "t_un_val = 0.1 * t_u_val"
      ],
      "metadata": {
        "id": "W3oW4gP8TYge"
      },
      "execution_count": 22,
      "outputs": []
    },
    {
      "cell_type": "code",
      "source": [
        "optimizer = torch.optim.SGD(seq_model.parameters(), lr=1e-3) # We’ve dropped the\n",
        "                                                    # learning rate a bit to\n",
        "                                                    # help with stability.\n",
        "training_loop(\n",
        "    n_epochs = 5000,\n",
        "    optimizer = optimizer,\n",
        "    model = seq_model,\n",
        "    loss_fn = nn.MSELoss(),\n",
        "    t_u_train = t_un_train,\n",
        "    t_u_val = t_un_val,\n",
        "    t_c_train = t_c_train,\n",
        "    t_c_val = t_c_val)\n",
        "\n",
        "print('output', seq_model(t_un_val))\n",
        "print('answer', t_c_val)\n",
        "print('hidden', seq_model.hidden_linear.weight.grad)"
      ],
      "metadata": {
        "id": "NVdf7TEVV696",
        "colab": {
          "base_uri": "https://localhost:8080/",
          "height": 382
        },
        "outputId": "ec4bd9d1-4b28-4b14-e088-f4e11a09847b"
      },
      "execution_count": 23,
      "outputs": [
        {
          "output_type": "error",
          "ename": "RuntimeError",
          "evalue": "ignored",
          "traceback": [
            "\u001b[0;31m---------------------------------------------------------------------------\u001b[0m",
            "\u001b[0;31mRuntimeError\u001b[0m                              Traceback (most recent call last)",
            "\u001b[0;32m<ipython-input-23-5e1685f93e68>\u001b[0m in \u001b[0;36m<cell line: 4>\u001b[0;34m()\u001b[0m\n\u001b[1;32m      2\u001b[0m                                                     \u001b[0;31m# learning rate a bit to\u001b[0m\u001b[0;34m\u001b[0m\u001b[0;34m\u001b[0m\u001b[0m\n\u001b[1;32m      3\u001b[0m                                                     \u001b[0;31m# help with stability.\u001b[0m\u001b[0;34m\u001b[0m\u001b[0;34m\u001b[0m\u001b[0m\n\u001b[0;32m----> 4\u001b[0;31m training_loop(\n\u001b[0m\u001b[1;32m      5\u001b[0m     \u001b[0mn_epochs\u001b[0m \u001b[0;34m=\u001b[0m \u001b[0;36m5000\u001b[0m\u001b[0;34m,\u001b[0m\u001b[0;34m\u001b[0m\u001b[0;34m\u001b[0m\u001b[0m\n\u001b[1;32m      6\u001b[0m     \u001b[0moptimizer\u001b[0m \u001b[0;34m=\u001b[0m \u001b[0moptimizer\u001b[0m\u001b[0;34m,\u001b[0m\u001b[0;34m\u001b[0m\u001b[0;34m\u001b[0m\u001b[0m\n",
            "\u001b[0;32m<ipython-input-16-31854727d805>\u001b[0m in \u001b[0;36mtraining_loop\u001b[0;34m(n_epochs, optimizer, model, loss_fn, t_u_train, t_u_val, t_c_train, t_c_val)\u001b[0m\n\u001b[1;32m      2\u001b[0m     t_c_train, t_c_val):\n\u001b[1;32m      3\u001b[0m     \u001b[0;32mfor\u001b[0m \u001b[0mepoch\u001b[0m \u001b[0;32min\u001b[0m \u001b[0mrange\u001b[0m\u001b[0;34m(\u001b[0m\u001b[0;36m1\u001b[0m\u001b[0;34m,\u001b[0m \u001b[0mn_epochs\u001b[0m \u001b[0;34m+\u001b[0m \u001b[0;36m1\u001b[0m\u001b[0;34m)\u001b[0m\u001b[0;34m:\u001b[0m\u001b[0;34m\u001b[0m\u001b[0;34m\u001b[0m\u001b[0m\n\u001b[0;32m----> 4\u001b[0;31m         \u001b[0mt_p_train\u001b[0m \u001b[0;34m=\u001b[0m \u001b[0mmodel\u001b[0m\u001b[0;34m(\u001b[0m\u001b[0mt_u_train\u001b[0m\u001b[0;34m)\u001b[0m               \u001b[0;31m# The model is now\u001b[0m\u001b[0;34m\u001b[0m\u001b[0;34m\u001b[0m\u001b[0m\n\u001b[0m\u001b[1;32m      5\u001b[0m         \u001b[0mloss_train\u001b[0m \u001b[0;34m=\u001b[0m \u001b[0mloss_fn\u001b[0m\u001b[0;34m(\u001b[0m\u001b[0mt_p_train\u001b[0m\u001b[0;34m,\u001b[0m \u001b[0mt_c_train\u001b[0m\u001b[0;34m)\u001b[0m \u001b[0;31m# passed in, instead of\u001b[0m\u001b[0;34m\u001b[0m\u001b[0;34m\u001b[0m\u001b[0m\n\u001b[1;32m      6\u001b[0m         \u001b[0mt_p_val\u001b[0m \u001b[0;34m=\u001b[0m \u001b[0mmodel\u001b[0m\u001b[0;34m(\u001b[0m\u001b[0mt_u_val\u001b[0m\u001b[0;34m)\u001b[0m                   \u001b[0;31m# the individual params.\u001b[0m\u001b[0;34m\u001b[0m\u001b[0;34m\u001b[0m\u001b[0m\n",
            "\u001b[0;32m/usr/local/lib/python3.10/dist-packages/torch/nn/modules/module.py\u001b[0m in \u001b[0;36m_call_impl\u001b[0;34m(self, *args, **kwargs)\u001b[0m\n\u001b[1;32m   1499\u001b[0m                 \u001b[0;32mor\u001b[0m \u001b[0m_global_backward_pre_hooks\u001b[0m \u001b[0;32mor\u001b[0m \u001b[0m_global_backward_hooks\u001b[0m\u001b[0;34m\u001b[0m\u001b[0;34m\u001b[0m\u001b[0m\n\u001b[1;32m   1500\u001b[0m                 or _global_forward_hooks or _global_forward_pre_hooks):\n\u001b[0;32m-> 1501\u001b[0;31m             \u001b[0;32mreturn\u001b[0m \u001b[0mforward_call\u001b[0m\u001b[0;34m(\u001b[0m\u001b[0;34m*\u001b[0m\u001b[0margs\u001b[0m\u001b[0;34m,\u001b[0m \u001b[0;34m**\u001b[0m\u001b[0mkwargs\u001b[0m\u001b[0;34m)\u001b[0m\u001b[0;34m\u001b[0m\u001b[0;34m\u001b[0m\u001b[0m\n\u001b[0m\u001b[1;32m   1502\u001b[0m         \u001b[0;31m# Do not call functions when jit is used\u001b[0m\u001b[0;34m\u001b[0m\u001b[0;34m\u001b[0m\u001b[0m\n\u001b[1;32m   1503\u001b[0m         \u001b[0mfull_backward_hooks\u001b[0m\u001b[0;34m,\u001b[0m \u001b[0mnon_full_backward_hooks\u001b[0m \u001b[0;34m=\u001b[0m \u001b[0;34m[\u001b[0m\u001b[0;34m]\u001b[0m\u001b[0;34m,\u001b[0m \u001b[0;34m[\u001b[0m\u001b[0;34m]\u001b[0m\u001b[0;34m\u001b[0m\u001b[0;34m\u001b[0m\u001b[0m\n",
            "\u001b[0;32m/usr/local/lib/python3.10/dist-packages/torch/nn/modules/container.py\u001b[0m in \u001b[0;36mforward\u001b[0;34m(self, input)\u001b[0m\n\u001b[1;32m    215\u001b[0m     \u001b[0;32mdef\u001b[0m \u001b[0mforward\u001b[0m\u001b[0;34m(\u001b[0m\u001b[0mself\u001b[0m\u001b[0;34m,\u001b[0m \u001b[0minput\u001b[0m\u001b[0;34m)\u001b[0m\u001b[0;34m:\u001b[0m\u001b[0;34m\u001b[0m\u001b[0;34m\u001b[0m\u001b[0m\n\u001b[1;32m    216\u001b[0m         \u001b[0;32mfor\u001b[0m \u001b[0mmodule\u001b[0m \u001b[0;32min\u001b[0m \u001b[0mself\u001b[0m\u001b[0;34m:\u001b[0m\u001b[0;34m\u001b[0m\u001b[0;34m\u001b[0m\u001b[0m\n\u001b[0;32m--> 217\u001b[0;31m             \u001b[0minput\u001b[0m \u001b[0;34m=\u001b[0m \u001b[0mmodule\u001b[0m\u001b[0;34m(\u001b[0m\u001b[0minput\u001b[0m\u001b[0;34m)\u001b[0m\u001b[0;34m\u001b[0m\u001b[0;34m\u001b[0m\u001b[0m\n\u001b[0m\u001b[1;32m    218\u001b[0m         \u001b[0;32mreturn\u001b[0m \u001b[0minput\u001b[0m\u001b[0;34m\u001b[0m\u001b[0;34m\u001b[0m\u001b[0m\n\u001b[1;32m    219\u001b[0m \u001b[0;34m\u001b[0m\u001b[0m\n",
            "\u001b[0;32m/usr/local/lib/python3.10/dist-packages/torch/nn/modules/module.py\u001b[0m in \u001b[0;36m_call_impl\u001b[0;34m(self, *args, **kwargs)\u001b[0m\n\u001b[1;32m   1499\u001b[0m                 \u001b[0;32mor\u001b[0m \u001b[0m_global_backward_pre_hooks\u001b[0m \u001b[0;32mor\u001b[0m \u001b[0m_global_backward_hooks\u001b[0m\u001b[0;34m\u001b[0m\u001b[0;34m\u001b[0m\u001b[0m\n\u001b[1;32m   1500\u001b[0m                 or _global_forward_hooks or _global_forward_pre_hooks):\n\u001b[0;32m-> 1501\u001b[0;31m             \u001b[0;32mreturn\u001b[0m \u001b[0mforward_call\u001b[0m\u001b[0;34m(\u001b[0m\u001b[0;34m*\u001b[0m\u001b[0margs\u001b[0m\u001b[0;34m,\u001b[0m \u001b[0;34m**\u001b[0m\u001b[0mkwargs\u001b[0m\u001b[0;34m)\u001b[0m\u001b[0;34m\u001b[0m\u001b[0;34m\u001b[0m\u001b[0m\n\u001b[0m\u001b[1;32m   1502\u001b[0m         \u001b[0;31m# Do not call functions when jit is used\u001b[0m\u001b[0;34m\u001b[0m\u001b[0;34m\u001b[0m\u001b[0m\n\u001b[1;32m   1503\u001b[0m         \u001b[0mfull_backward_hooks\u001b[0m\u001b[0;34m,\u001b[0m \u001b[0mnon_full_backward_hooks\u001b[0m \u001b[0;34m=\u001b[0m \u001b[0;34m[\u001b[0m\u001b[0;34m]\u001b[0m\u001b[0;34m,\u001b[0m \u001b[0;34m[\u001b[0m\u001b[0;34m]\u001b[0m\u001b[0;34m\u001b[0m\u001b[0;34m\u001b[0m\u001b[0m\n",
            "\u001b[0;32m/usr/local/lib/python3.10/dist-packages/torch/nn/modules/linear.py\u001b[0m in \u001b[0;36mforward\u001b[0;34m(self, input)\u001b[0m\n\u001b[1;32m    112\u001b[0m \u001b[0;34m\u001b[0m\u001b[0m\n\u001b[1;32m    113\u001b[0m     \u001b[0;32mdef\u001b[0m \u001b[0mforward\u001b[0m\u001b[0;34m(\u001b[0m\u001b[0mself\u001b[0m\u001b[0;34m,\u001b[0m \u001b[0minput\u001b[0m\u001b[0;34m:\u001b[0m \u001b[0mTensor\u001b[0m\u001b[0;34m)\u001b[0m \u001b[0;34m->\u001b[0m \u001b[0mTensor\u001b[0m\u001b[0;34m:\u001b[0m\u001b[0;34m\u001b[0m\u001b[0;34m\u001b[0m\u001b[0m\n\u001b[0;32m--> 114\u001b[0;31m         \u001b[0;32mreturn\u001b[0m \u001b[0mF\u001b[0m\u001b[0;34m.\u001b[0m\u001b[0mlinear\u001b[0m\u001b[0;34m(\u001b[0m\u001b[0minput\u001b[0m\u001b[0;34m,\u001b[0m \u001b[0mself\u001b[0m\u001b[0;34m.\u001b[0m\u001b[0mweight\u001b[0m\u001b[0;34m,\u001b[0m \u001b[0mself\u001b[0m\u001b[0;34m.\u001b[0m\u001b[0mbias\u001b[0m\u001b[0;34m)\u001b[0m\u001b[0;34m\u001b[0m\u001b[0;34m\u001b[0m\u001b[0m\n\u001b[0m\u001b[1;32m    115\u001b[0m \u001b[0;34m\u001b[0m\u001b[0m\n\u001b[1;32m    116\u001b[0m     \u001b[0;32mdef\u001b[0m \u001b[0mextra_repr\u001b[0m\u001b[0;34m(\u001b[0m\u001b[0mself\u001b[0m\u001b[0;34m)\u001b[0m \u001b[0;34m->\u001b[0m \u001b[0mstr\u001b[0m\u001b[0;34m:\u001b[0m\u001b[0;34m\u001b[0m\u001b[0;34m\u001b[0m\u001b[0m\n",
            "\u001b[0;31mRuntimeError\u001b[0m: mat1 and mat2 shapes cannot be multiplied (1x8 and 1x13)"
          ]
        }
      ]
    },
    {
      "cell_type": "code",
      "source": [
        "n_epochs = 5000\n",
        "loss_fn = nn.MSELoss()\n",
        "for epoch in range(1, n_epochs + 1):\n",
        "    t_p_train = seq_model(x)               # The model is now\n",
        "    loss_train = loss_fn(t_p_train, gold) # passed in, instead of\n",
        "    #t_p_val = seq_model(t_u_val)                   # the individual params.\n",
        "    #loss_val = nn.MSELoss((t_p_val, t_c_val)\n",
        "    optimizer.zero_grad()\n",
        "    loss_train.backward() # The loss function is also passed\n",
        "    optimizer.step()      # in. We’ll use it in a moment.\n",
        "\n",
        "    if epoch == 1 or epoch % 1000 == 0:\n",
        "        print(f\"Epoch {epoch}, Training loss {loss_train.item():.4f},\")\n",
        "    #        f\" Validation loss {loss_val.item():.4f}\")"
      ],
      "metadata": {
        "colab": {
          "base_uri": "https://localhost:8080/"
        },
        "id": "y85JzJxBV-YI",
        "outputId": "00d74739-9288-418a-cec1-2d0cf4aca9ba"
      },
      "execution_count": null,
      "outputs": [
        {
          "output_type": "stream",
          "name": "stdout",
          "text": [
            "Epoch 1, Training loss 553.6083,\n",
            "Epoch 1000, Training loss 77.1356,\n",
            "Epoch 2000, Training loss 77.1583,\n",
            "Epoch 3000, Training loss 77.1363,\n",
            "Epoch 4000, Training loss 77.1321,\n",
            "Epoch 5000, Training loss 77.1368,\n"
          ]
        }
      ]
    },
    {
      "cell_type": "code",
      "source": [
        "for name, param in seq_model.named_parameters():\n",
        "  print(name, param.shape)"
      ],
      "metadata": {
        "colab": {
          "base_uri": "https://localhost:8080/"
        },
        "id": "KzhIuAG9p3nG",
        "outputId": "a22ac5a2-66aa-4886-cf15-11f7bb340744"
      },
      "execution_count": null,
      "outputs": [
        {
          "output_type": "stream",
          "name": "stdout",
          "text": [
            "0.weight torch.Size([13, 1])\n",
            "0.bias torch.Size([13])\n",
            "2.weight torch.Size([1, 13])\n",
            "2.bias torch.Size([1])\n"
          ]
        }
      ]
    },
    {
      "cell_type": "code",
      "source": [
        "next(seq_model.parameters())"
      ],
      "metadata": {
        "colab": {
          "base_uri": "https://localhost:8080/"
        },
        "id": "RAf6P1OC3Zew",
        "outputId": "79a10144-8110-4658-d831-f2b43ead7e23"
      },
      "execution_count": null,
      "outputs": [
        {
          "output_type": "execute_result",
          "data": {
            "text/plain": [
              "Parameter containing:\n",
              "tensor([[ 0.2089],\n",
              "        [-0.3099],\n",
              "        [ 0.7161],\n",
              "        [-0.2921],\n",
              "        [ 0.5683],\n",
              "        [-0.2310],\n",
              "        [-0.8640],\n",
              "        [-0.7190],\n",
              "        [ 0.4549],\n",
              "        [ 2.8549],\n",
              "        [-0.8763],\n",
              "        [-0.8471],\n",
              "        [ 0.8698]], requires_grad=True)"
            ]
          },
          "metadata": {},
          "execution_count": 129
        }
      ]
    },
    {
      "cell_type": "code",
      "source": [
        "import matplotlib.pyplot as plt\n",
        "\n",
        "fig, axes = plt.subplots(nrows=1, ncols=2, figsize=(10, 4))\n",
        "\n",
        "# Plot the lines on the first subplot (axes[0])\n",
        "axes[0].plot(range(0,epochs+1), losses, linewidth=2.0)\n",
        "axes[0].set_title('Loss')\n",
        "axes[0].legend()\n",
        "\n",
        "# Plot the lines on the second subplot (axes[1])\n",
        "axes[1].plot(range(0,len(t_c)), t_c, color='blue', label='Line 1')\n",
        "axes[1].plot(range(0,len(t_c)), seq_model(t_u).detach().numpy(), color='red', label='Line 2')\n",
        "\n",
        "axes[1].set_title('Gold vs. Model')\n",
        "axes[1].legend()\n",
        "\n",
        "# Display the plots\n",
        "plt.tight_layout()  # Adjust spacing between subplots\n",
        "plt.show()"
      ],
      "metadata": {
        "colab": {
          "base_uri": "https://localhost:8080/",
          "height": 739
        },
        "id": "B4b2eJC23zfb",
        "outputId": "b5f4c9ed-1f81-47ee-b651-9c9b01c11775"
      },
      "execution_count": null,
      "outputs": [
        {
          "output_type": "error",
          "ename": "ValueError",
          "evalue": "ignored",
          "traceback": [
            "\u001b[0;31m---------------------------------------------------------------------------\u001b[0m",
            "\u001b[0;31mValueError\u001b[0m                                Traceback (most recent call last)",
            "\u001b[0;32m<ipython-input-49-dfa17dcbe6fa>\u001b[0m in \u001b[0;36m<cell line: 6>\u001b[0;34m()\u001b[0m\n\u001b[1;32m      4\u001b[0m \u001b[0;34m\u001b[0m\u001b[0m\n\u001b[1;32m      5\u001b[0m \u001b[0;31m# Plot the lines on the first subplot (axes[0])\u001b[0m\u001b[0;34m\u001b[0m\u001b[0;34m\u001b[0m\u001b[0m\n\u001b[0;32m----> 6\u001b[0;31m \u001b[0maxes\u001b[0m\u001b[0;34m[\u001b[0m\u001b[0;36m0\u001b[0m\u001b[0;34m]\u001b[0m\u001b[0;34m.\u001b[0m\u001b[0mplot\u001b[0m\u001b[0;34m(\u001b[0m\u001b[0mrange\u001b[0m\u001b[0;34m(\u001b[0m\u001b[0;36m0\u001b[0m\u001b[0;34m,\u001b[0m\u001b[0mepochs\u001b[0m\u001b[0;34m+\u001b[0m\u001b[0;36m1\u001b[0m\u001b[0;34m)\u001b[0m\u001b[0;34m,\u001b[0m \u001b[0mlosses\u001b[0m\u001b[0;34m,\u001b[0m \u001b[0mlinewidth\u001b[0m\u001b[0;34m=\u001b[0m\u001b[0;36m2.0\u001b[0m\u001b[0;34m)\u001b[0m\u001b[0;34m\u001b[0m\u001b[0;34m\u001b[0m\u001b[0m\n\u001b[0m\u001b[1;32m      7\u001b[0m \u001b[0maxes\u001b[0m\u001b[0;34m[\u001b[0m\u001b[0;36m0\u001b[0m\u001b[0;34m]\u001b[0m\u001b[0;34m.\u001b[0m\u001b[0mset_title\u001b[0m\u001b[0;34m(\u001b[0m\u001b[0;34m'Loss'\u001b[0m\u001b[0;34m)\u001b[0m\u001b[0;34m\u001b[0m\u001b[0;34m\u001b[0m\u001b[0m\n\u001b[1;32m      8\u001b[0m \u001b[0maxes\u001b[0m\u001b[0;34m[\u001b[0m\u001b[0;36m0\u001b[0m\u001b[0;34m]\u001b[0m\u001b[0;34m.\u001b[0m\u001b[0mlegend\u001b[0m\u001b[0;34m(\u001b[0m\u001b[0;34m)\u001b[0m\u001b[0;34m\u001b[0m\u001b[0;34m\u001b[0m\u001b[0m\n",
            "\u001b[0;32m/usr/local/lib/python3.9/dist-packages/matplotlib/axes/_axes.py\u001b[0m in \u001b[0;36mplot\u001b[0;34m(self, scalex, scaley, data, *args, **kwargs)\u001b[0m\n\u001b[1;32m   1686\u001b[0m         \"\"\"\n\u001b[1;32m   1687\u001b[0m         \u001b[0mkwargs\u001b[0m \u001b[0;34m=\u001b[0m \u001b[0mcbook\u001b[0m\u001b[0;34m.\u001b[0m\u001b[0mnormalize_kwargs\u001b[0m\u001b[0;34m(\u001b[0m\u001b[0mkwargs\u001b[0m\u001b[0;34m,\u001b[0m \u001b[0mmlines\u001b[0m\u001b[0;34m.\u001b[0m\u001b[0mLine2D\u001b[0m\u001b[0;34m)\u001b[0m\u001b[0;34m\u001b[0m\u001b[0;34m\u001b[0m\u001b[0m\n\u001b[0;32m-> 1688\u001b[0;31m         \u001b[0mlines\u001b[0m \u001b[0;34m=\u001b[0m \u001b[0;34m[\u001b[0m\u001b[0;34m*\u001b[0m\u001b[0mself\u001b[0m\u001b[0;34m.\u001b[0m\u001b[0m_get_lines\u001b[0m\u001b[0;34m(\u001b[0m\u001b[0;34m*\u001b[0m\u001b[0margs\u001b[0m\u001b[0;34m,\u001b[0m \u001b[0mdata\u001b[0m\u001b[0;34m=\u001b[0m\u001b[0mdata\u001b[0m\u001b[0;34m,\u001b[0m \u001b[0;34m**\u001b[0m\u001b[0mkwargs\u001b[0m\u001b[0;34m)\u001b[0m\u001b[0;34m]\u001b[0m\u001b[0;34m\u001b[0m\u001b[0;34m\u001b[0m\u001b[0m\n\u001b[0m\u001b[1;32m   1689\u001b[0m         \u001b[0;32mfor\u001b[0m \u001b[0mline\u001b[0m \u001b[0;32min\u001b[0m \u001b[0mlines\u001b[0m\u001b[0;34m:\u001b[0m\u001b[0;34m\u001b[0m\u001b[0;34m\u001b[0m\u001b[0m\n\u001b[1;32m   1690\u001b[0m             \u001b[0mself\u001b[0m\u001b[0;34m.\u001b[0m\u001b[0madd_line\u001b[0m\u001b[0;34m(\u001b[0m\u001b[0mline\u001b[0m\u001b[0;34m)\u001b[0m\u001b[0;34m\u001b[0m\u001b[0;34m\u001b[0m\u001b[0m\n",
            "\u001b[0;32m/usr/local/lib/python3.9/dist-packages/matplotlib/axes/_base.py\u001b[0m in \u001b[0;36m__call__\u001b[0;34m(self, data, *args, **kwargs)\u001b[0m\n\u001b[1;32m    309\u001b[0m                 \u001b[0mthis\u001b[0m \u001b[0;34m+=\u001b[0m \u001b[0margs\u001b[0m\u001b[0;34m[\u001b[0m\u001b[0;36m0\u001b[0m\u001b[0;34m]\u001b[0m\u001b[0;34m,\u001b[0m\u001b[0;34m\u001b[0m\u001b[0;34m\u001b[0m\u001b[0m\n\u001b[1;32m    310\u001b[0m                 \u001b[0margs\u001b[0m \u001b[0;34m=\u001b[0m \u001b[0margs\u001b[0m\u001b[0;34m[\u001b[0m\u001b[0;36m1\u001b[0m\u001b[0;34m:\u001b[0m\u001b[0;34m]\u001b[0m\u001b[0;34m\u001b[0m\u001b[0;34m\u001b[0m\u001b[0m\n\u001b[0;32m--> 311\u001b[0;31m             yield from self._plot_args(\n\u001b[0m\u001b[1;32m    312\u001b[0m                 this, kwargs, ambiguous_fmt_datakey=ambiguous_fmt_datakey)\n\u001b[1;32m    313\u001b[0m \u001b[0;34m\u001b[0m\u001b[0m\n",
            "\u001b[0;32m/usr/local/lib/python3.9/dist-packages/matplotlib/axes/_base.py\u001b[0m in \u001b[0;36m_plot_args\u001b[0;34m(self, tup, kwargs, return_kwargs, ambiguous_fmt_datakey)\u001b[0m\n\u001b[1;32m    502\u001b[0m \u001b[0;34m\u001b[0m\u001b[0m\n\u001b[1;32m    503\u001b[0m         \u001b[0;32mif\u001b[0m \u001b[0mx\u001b[0m\u001b[0;34m.\u001b[0m\u001b[0mshape\u001b[0m\u001b[0;34m[\u001b[0m\u001b[0;36m0\u001b[0m\u001b[0;34m]\u001b[0m \u001b[0;34m!=\u001b[0m \u001b[0my\u001b[0m\u001b[0;34m.\u001b[0m\u001b[0mshape\u001b[0m\u001b[0;34m[\u001b[0m\u001b[0;36m0\u001b[0m\u001b[0;34m]\u001b[0m\u001b[0;34m:\u001b[0m\u001b[0;34m\u001b[0m\u001b[0;34m\u001b[0m\u001b[0m\n\u001b[0;32m--> 504\u001b[0;31m             raise ValueError(f\"x and y must have same first dimension, but \"\n\u001b[0m\u001b[1;32m    505\u001b[0m                              f\"have shapes {x.shape} and {y.shape}\")\n\u001b[1;32m    506\u001b[0m         \u001b[0;32mif\u001b[0m \u001b[0mx\u001b[0m\u001b[0;34m.\u001b[0m\u001b[0mndim\u001b[0m \u001b[0;34m>\u001b[0m \u001b[0;36m2\u001b[0m \u001b[0;32mor\u001b[0m \u001b[0my\u001b[0m\u001b[0;34m.\u001b[0m\u001b[0mndim\u001b[0m \u001b[0;34m>\u001b[0m \u001b[0;36m2\u001b[0m\u001b[0;34m:\u001b[0m\u001b[0;34m\u001b[0m\u001b[0;34m\u001b[0m\u001b[0m\n",
            "\u001b[0;31mValueError\u001b[0m: x and y must have same first dimension, but have shapes (1001,) and (0,)"
          ]
        },
        {
          "output_type": "display_data",
          "data": {
            "text/plain": [
              "<Figure size 1000x400 with 2 Axes>"
            ],
            "image/png": "[encoded data removed]"
          },
          "metadata": {}
        }
      ]
    },
    {
      "cell_type": "code",
      "source": [
        "def training_loop(n_epochs,\n",
        "                  optimizer,\n",
        "                  model,\n",
        "                  loss_fn,\n",
        "                  t_u_train,\n",
        "                  #t_u_val,\n",
        "                  t_c_train,\n",
        "                  #t_c_val\n",
        "                  ):\n",
        "  for epoch in range(1,n_epochs + 1):\n",
        "    t_p_train = model(t_u_train)\n",
        "    loss_train = loss_fn(t_p_train, t_c_train)\n",
        "\n",
        "    #t_p_val = model(t_u_val)\n",
        "    #loss_val = loss_fn(t_p_val, t_c_val)\n",
        "\n",
        "    optimizer.zero_grad()\n",
        "    loss_train.backward()\n",
        "    optimizer.step()\n",
        "\n",
        "    if epoch == 1 or epoch % 1000 == 0:\n",
        "      print(f\"Epoch {epoch}, Training loss {loss_train.item():.4f},\")\n",
        "      #      f\" Validation loss {loss_val.item():.4f}\")"
      ],
      "metadata": {
        "id": "XhFbb6Fw2KHQ"
      },
      "execution_count": null,
      "outputs": []
    },
    {
      "cell_type": "code",
      "source": [
        "training_loop(1000,\n",
        "              optimizer,\n",
        "              seq_model,\n",
        "              loss_f,\n",
        "              t_u,\n",
        "              #t_u,\n",
        "              #t_c,\n",
        "              t_c)"
      ],
      "metadata": {
        "colab": {
          "base_uri": "https://localhost:8080/"
        },
        "id": "oWuZ5lIvmFP9",
        "outputId": "b90e69cf-f18a-4515-eba1-1d1383b20725"
      },
      "execution_count": null,
      "outputs": [
        {
          "output_type": "stream",
          "name": "stdout",
          "text": [
            "Epoch 1, Training loss 194.9488,\n",
            "Epoch 1000, Training loss 194.9488,\n"
          ]
        }
      ]
    },
    {
      "cell_type": "code",
      "source": [
        "optimizer = optim.SGD(seq_model.parameters(), lr=1e-3)\n",
        "\n",
        "training_loop(\n",
        "    n_epochs = 5000,\n",
        "    optimizer = seq_model,\n",
        "    model = seq_model,\n",
        "    loss_fn = nn.MSELoss(),\n",
        "    t_u_train = t_un_train,\n",
        "    t_u_val = t_un_val,\n",
        "    t_c_train = t_c_train,\n",
        "    t_c_val = t_c_val\n",
        ")"
      ],
      "metadata": {
        "id": "tMWubVfQml7J"
      },
      "execution_count": null,
      "outputs": []
    },
    {
      "cell_type": "code",
      "source": [
        "X.shape, x.shape"
      ],
      "metadata": {
        "colab": {
          "base_uri": "https://localhost:8080/"
        },
        "id": "tbwzcetB8mBz",
        "outputId": "aef9c387-e258-4eb6-f3c0-7ae7d9e5b8dd"
      },
      "execution_count": null,
      "outputs": [
        {
          "output_type": "execute_result",
          "data": {
            "text/plain": [
              "(torch.Size([100, 1]), torch.Size([10, 1]))"
            ]
          },
          "metadata": {},
          "execution_count": 92
        }
      ]
    },
    {
      "cell_type": "code",
      "source": [
        "import torch\n",
        "import torch.nn as nn\n",
        "import torch.optim as optim\n",
        "\n",
        "# Create a simple dataset with 100 samples and 1 feature\n",
        "X = torch.randn(100, 1)\n",
        "y = 3 * X + 2 + torch.randn(100, 1) * 0.1\n",
        "\n",
        "#X = x\n",
        "#y = gold\n",
        "\n",
        "# Define a simple neural network using nn.Sequential\n",
        "model = nn.Sequential(\n",
        "    nn.Linear(1, 13),\n",
        "    nn.Tanh(),\n",
        "    nn.Linear(13,1)\n",
        ")\n",
        "\n",
        "# Set the learning rate, number of epochs, loss function, and optimizer\n",
        "learning_rate = 0.01\n",
        "num_epochs = 100\n",
        "criterion = nn.MSELoss()\n",
        "optimizer = optim.SGD(model.parameters(), lr=learning_rate)\n",
        "\n",
        "# Training loop\n",
        "for epoch in range(num_epochs):\n",
        "    # Forward pass: compute the prediction\n",
        "    y_pred = model(X)\n",
        "\n",
        "    # Compute the loss\n",
        "    loss = criterion(y_pred, y)\n",
        "\n",
        "    # Zero the gradients before computing them again\n",
        "    optimizer.zero_grad()\n",
        "\n",
        "    # Compute gradients\n",
        "    loss.backward()\n",
        "\n",
        "    # Update the parameters using the optimizer\n",
        "    optimizer.step()\n",
        "\n",
        "    # Print the loss for every 10th epoch\n",
        "    if epoch % 10 == 0:\n",
        "        print(f\"Epoch {epoch}, Loss: {loss.item()}\")\n",
        "\n",
        "# Print the updated parameters\n",
        "print(\"Updated parameters: \")\n",
        "for name, param in model.named_parameters():\n",
        "    print(f\"{name}: {param.data}\")\n"
      ],
      "metadata": {
        "colab": {
          "base_uri": "https://localhost:8080/"
        },
        "id": "Q9kBICbP5JTY",
        "outputId": "1073f2c4-d90f-4c8b-b2da-c792eab39fe0"
      },
      "execution_count": null,
      "outputs": [
        {
          "output_type": "stream",
          "name": "stdout",
          "text": [
            "Epoch 0, Loss: 8.940764427185059\n",
            "Epoch 10, Loss: 2.80075740814209\n",
            "Epoch 20, Loss: 1.0816895961761475\n",
            "Epoch 30, Loss: 0.5985932350158691\n",
            "Epoch 40, Loss: 0.4406448304653168\n",
            "Epoch 50, Loss: 0.3771175146102905\n",
            "Epoch 60, Loss: 0.34551799297332764\n",
            "Epoch 70, Loss: 0.3258507251739502\n",
            "Epoch 80, Loss: 0.3109458088874817\n",
            "Epoch 90, Loss: 0.2981247007846832\n",
            "Updated parameters: \n",
            "0.weight: tensor([[ 0.9776],\n",
            "        [-0.2260],\n",
            "        [ 0.8976],\n",
            "        [-0.6575],\n",
            "        [ 0.4481],\n",
            "        [-0.4113],\n",
            "        [ 0.9567],\n",
            "        [-0.4909],\n",
            "        [ 0.8123],\n",
            "        [ 0.9516],\n",
            "        [ 0.2139],\n",
            "        [ 0.3622],\n",
            "        [ 0.3165]])\n",
            "0.bias: tensor([-0.1411,  0.2002,  0.7015,  0.5266,  0.8576, -0.1154, -0.1481, -0.1294,\n",
            "         0.5786, -0.1604,  0.4251,  0.5983,  0.6296])\n",
            "2.weight: tensor([[ 0.7261, -0.0656,  0.8435, -0.4586,  0.5097, -0.4752,  0.5388, -0.3900,\n",
            "          0.8212,  0.7330,  0.2783,  0.2986,  0.5271]])\n",
            "2.bias: tensor([0.7188])\n"
          ]
        }
      ]
    },
    {
      "cell_type": "code",
      "source": [
        "model = nn.Sequential(\n",
        "    nn.Linear(1,13),\n",
        "    nn.Tanh(),\n",
        "    nn.Linear(13,1))\n",
        "\n",
        "loss_f = nn.MSELoss()\n",
        "optimizer = optim.SGD(model.parameters(), lr=0.01)\n",
        "\n",
        "epochs = 5000\n",
        "losses = []\n",
        "\n",
        "for i in range(1,epochs  + 1):\n",
        "  preds = model(x)\n",
        "  loss = loss_f(preds,gold)\n",
        "\n",
        "  optimizer.zero_grad()\n",
        "  loss.backward()\n",
        "  optimizer.step()\n",
        "\n",
        "  #losses.append(loss.detach().numpy())\n",
        "  if i == 1 or i % (epochs / 10) == 0:\n",
        "    print(f\"i: {i} - loss: {loss} \")"
      ],
      "metadata": {
        "colab": {
          "base_uri": "https://localhost:8080/"
        },
        "id": "jSV7-Orl5J2P",
        "outputId": "61a18216-22de-499f-d24c-ccec15d0e31d"
      },
      "execution_count": null,
      "outputs": [
        {
          "output_type": "stream",
          "name": "stdout",
          "text": [
            "i: 1 - loss: 178.20497131347656 \n",
            "i: 500 - loss: 82.62242126464844 \n",
            "i: 1000 - loss: 82.62229919433594 \n",
            "i: 1500 - loss: 82.62248229980469 \n",
            "i: 2000 - loss: 82.62247467041016 \n",
            "i: 2500 - loss: 82.62247467041016 \n",
            "i: 3000 - loss: 82.6224594116211 \n",
            "i: 3500 - loss: 82.62245178222656 \n",
            "i: 4000 - loss: 82.62242126464844 \n",
            "i: 4500 - loss: 82.62220764160156 \n",
            "i: 5000 - loss: 82.62256622314453 \n"
          ]
        }
      ]
    },
    {
      "cell_type": "code",
      "source": [
        "import matplotlib.pyplot as plt\n",
        "\n",
        "fig, axes = plt.subplots(nrows=1, ncols=1, figsize=(10, 2))\n",
        "\n",
        "axes.plot(range(0,100), y.detach().numpy(), color='blue', label='Line 1')\n",
        "axes.plot(range(0,100), X.detach().numpy(), color='red', label='Line 2')\n",
        "\n",
        "plt.tight_layout()  # Adjust spacing between subplots\n",
        "plt.show()"
      ],
      "metadata": {
        "colab": {
          "base_uri": "https://localhost:8080/",
          "height": 207
        },
        "id": "67rsNPpf9Syn",
        "outputId": "368219ed-2385-4832-cc24-2920fe9c51ad"
      },
      "execution_count": null,
      "outputs": [
        {
          "output_type": "display_data",
          "data": {
            "text/plain": [
              "<Figure size 1000x200 with 1 Axes>"
            ],
            "image/png": "[encoded data removed]"
          },
          "metadata": {}
        }
      ]
    },
    {
      "cell_type": "code",
      "source": [
        "import matplotlib.pyplot as plt\n",
        "\n",
        "fig, axes = plt.subplots(nrows=1, ncols=1, figsize=(10, 2))\n",
        "\n",
        "axes.plot(range(0,10), gold.detach().numpy(), color='blue', label='Line 1')\n",
        "axes.plot(range(0,10), x.detach().numpy(), color='red', label='Line 2')\n",
        "\n",
        "plt.tight_layout()  # Adjust spacing between subplots\n",
        "plt.show()"
      ],
      "metadata": {
        "colab": {
          "base_uri": "https://localhost:8080/",
          "height": 207
        },
        "id": "GAK2uf6c9uNH",
        "outputId": "b0d9d5a8-cdd5-4368-bf1c-7b1cf2794d1e"
      },
      "execution_count": null,
      "outputs": [
        {
          "output_type": "display_data",
          "data": {
            "text/plain": [
              "<Figure size 1000x200 with 1 Axes>"
            ],
            "image/png": "[encoded data removed]"
          },
          "metadata": {}
        }
      ]
    },
    {
      "cell_type": "code",
      "source": [
        "gold = torch.tensor([ [-4.0], [0.5], [3.0], [6.0], [8.0], [11.0], [13.0], [14.0], [21.0], [28.0] ])\n",
        "x = torch.tensor([ [21.8], [35.7], [33.9], [48.4], [48.9], [56.3], [60.4], [58.2], [68.4], [81.9]])"
      ],
      "metadata": {
        "id": "-pXv1wlkS_WL"
      },
      "execution_count": null,
      "outputs": []
    },
    {
      "cell_type": "code",
      "source": [
        "\n",
        "\n",
        "import torch\n",
        "import torch.nn as nn\n",
        "t_c = [0.5, 14.0, 15.0, 28.0, 11.0, 8.0, 3.0, -4.0, 6.0, 13.0, 21.0]\n",
        "t_u = [35.7, 55.9, 58.2, 81.9, 56.3, 48.9, 33.9, 21.8, 48.4, 60.4, 68.4]\n",
        "t_c = torch.tensor(t_c).unsqueeze(1)\n",
        "t_u = torch.tensor(t_u).unsqueeze(1)\n",
        "t_u.shape\n",
        "\n"
      ],
      "metadata": {
        "colab": {
          "base_uri": "https://localhost:8080/"
        },
        "id": "JQW006tz9nWT",
        "outputId": "c166c8b6-2287-4703-cce6-2f0496af68f1"
      },
      "execution_count": null,
      "outputs": [
        {
          "output_type": "execute_result",
          "data": {
            "text/plain": [
              "torch.Size([11, 1])"
            ]
          },
          "metadata": {},
          "execution_count": 123
        }
      ]
    },
    {
      "cell_type": "code",
      "source": [
        "gold.shape"
      ],
      "metadata": {
        "colab": {
          "base_uri": "https://localhost:8080/"
        },
        "id": "GX_UsLMbTHiy",
        "outputId": "81c825bf-f96f-4c83-a621-638be942b320"
      },
      "execution_count": null,
      "outputs": [
        {
          "output_type": "execute_result",
          "data": {
            "text/plain": [
              "torch.Size([10, 1])"
            ]
          },
          "metadata": {},
          "execution_count": 100
        }
      ]
    },
    {
      "cell_type": "code",
      "source": [
        "n_samples = t_u.shape[0]\n",
        "n_val = int(0.2 * n_samples)\n",
        "\n",
        "shuffled_indices = torch.randperm(n_samples)\n",
        "\n",
        "train_indices = shuffled_indices[:-n_val]\n",
        "val_indices = shuffled_indices[-n_val:]\n",
        "\n",
        "train_indices, val_indices\n",
        "\n",
        "t_u_train = t_u[train_indices]\n",
        "t_c_train = t_c[train_indices]\n",
        "\n",
        "t_u_val = t_u[val_indices]\n",
        "t_c_val = t_c[val_indices]\n",
        "\n",
        "t_un_train = 0.1 * t_u_train\n",
        "t_un_val = 0.1 * t_u_val"
      ],
      "metadata": {
        "id": "ig07Kr8wTI78"
      },
      "execution_count": null,
      "outputs": []
    },
    {
      "cell_type": "code",
      "source": [
        "linear_model = nn.Linear(1, 1) # This is just a redefinition from earlier.\n",
        "optimizer = torch.optim.SGD(\n",
        "    linear_model.parameters(), # This method call replaces [params].\n",
        "    lr=1e-2)"
      ],
      "metadata": {
        "id": "tIsNA_02TWxx"
      },
      "execution_count": null,
      "outputs": []
    },
    {
      "cell_type": "code",
      "source": [
        "linear_model.parameters()\n"
      ],
      "metadata": {
        "colab": {
          "base_uri": "https://localhost:8080/"
        },
        "id": "7_Z8HcfSTgkB",
        "outputId": "c8c49306-ba5a-4507-c50d-41f35c838e41"
      },
      "execution_count": null,
      "outputs": [
        {
          "output_type": "execute_result",
          "data": {
            "text/plain": [
              "<generator object Module.parameters at 0x7f0bc215e9e0>"
            ]
          },
          "metadata": {},
          "execution_count": 103
        }
      ]
    },
    {
      "cell_type": "code",
      "source": [
        "list(linear_model.parameters())"
      ],
      "metadata": {
        "colab": {
          "base_uri": "https://localhost:8080/"
        },
        "id": "DXFu4PNbTjUA",
        "outputId": "138848d5-ca28-447f-def3-1114d406a4a9"
      },
      "execution_count": null,
      "outputs": [
        {
          "output_type": "execute_result",
          "data": {
            "text/plain": [
              "[Parameter containing:\n",
              " tensor([[0.3216]], requires_grad=True),\n",
              " Parameter containing:\n",
              " tensor([0.9431], requires_grad=True)]"
            ]
          },
          "metadata": {},
          "execution_count": 105
        }
      ]
    },
    {
      "cell_type": "code",
      "source": [
        "def training_loop(n_epochs, optimizer, model, loss_fn, t_u_train, t_u_val,\n",
        "    t_c_train, t_c_val):\n",
        "    for epoch in range(1, n_epochs + 1):\n",
        "        t_p_train = model(t_u_train)               # The model is now\n",
        "        loss_train = loss_fn(t_p_train, t_c_train) # passed in, instead of\n",
        "        t_p_val = model(t_u_val)                   # the individual params.\n",
        "\n",
        "        loss_val = loss_fn(t_p_val, t_c_val)\n",
        "\n",
        "        optimizer.zero_grad()\n",
        "        loss_train.backward() # The loss function is also passed\n",
        "        optimizer.step()      # in. We’ll use it in a moment.\n",
        "\n",
        "        if epoch == 1 or epoch % 1000 == 0:\n",
        "            print(f\"Epoch {epoch}, Training loss {loss_train.item():.4f},\"\n",
        "                f\" Validation loss {loss_val.item():.4f}\")"
      ],
      "metadata": {
        "id": "NaTwqvzdTlGl"
      },
      "execution_count": null,
      "outputs": []
    },
    {
      "cell_type": "code",
      "source": [
        "def loss_fn(t_p, t_c):\n",
        "    squared_diffs = (t_p - t_c)**2\n",
        "    return squared_diffs.mean()\n",
        "\n",
        "linear_model = nn.Linear(1, 1) # <1>\n",
        "optimizer = torch.optim.SGD(linear_model.parameters(), lr=1e-2)\n",
        "\n",
        "training_loop(\n",
        "    n_epochs = 3000,\n",
        "    optimizer = optimizer,\n",
        "    model = linear_model,\n",
        "    loss_fn = loss_fn,\n",
        "    t_u_train = t_un_train,\n",
        "    t_u_val = t_un_val,\n",
        "    t_c_train = t_c_train,\n",
        "    t_c_val = t_c_val)\n",
        "\n",
        "print()\n",
        "print(linear_model.weight)\n",
        "print(linear_model.bias)"
      ],
      "metadata": {
        "colab": {
          "base_uri": "https://localhost:8080/"
        },
        "id": "SompQw1fTqZH",
        "outputId": "2a3378e5-3198-426d-cd2b-ad41afa1c017"
      },
      "execution_count": null,
      "outputs": [
        {
          "output_type": "stream",
          "name": "stdout",
          "text": [
            "Epoch 1, Training loss 95.3755, Validation loss 30.8876\n",
            "Epoch 1000, Training loss 3.4291, Validation loss 4.0930\n",
            "Epoch 2000, Training loss 2.8639, Validation loss 3.9761\n",
            "Epoch 3000, Training loss 2.8541, Validation loss 3.9680\n",
            "\n",
            "Parameter containing:\n",
            "tensor([[5.4239]], requires_grad=True)\n",
            "Parameter containing:\n",
            "tensor([-17.2484], requires_grad=True)\n"
          ]
        }
      ]
    },
    {
      "cell_type": "code",
      "source": [
        "seq_model = nn.Sequential(\n",
        "            nn.Linear(1, 13), # We chose 13 arbitrarily. We wanted a number\n",
        "                              # that was a different size from the other\n",
        "                              # tensor shapes we have floating around.\n",
        "            nn.Tanh(),\n",
        "            nn.Linear(13, 1)) # This 13 must match the first size, however.\n",
        "seq_model"
      ],
      "metadata": {
        "colab": {
          "base_uri": "https://localhost:8080/"
        },
        "id": "WYWLjHQkTuUl",
        "outputId": "f8c077fc-5a81-49d4-b9d6-0abca5e4c39c"
      },
      "execution_count": null,
      "outputs": [
        {
          "output_type": "execute_result",
          "data": {
            "text/plain": [
              "Sequential(\n",
              "  (0): Linear(in_features=1, out_features=13, bias=True)\n",
              "  (1): Tanh()\n",
              "  (2): Linear(in_features=13, out_features=1, bias=True)\n",
              ")"
            ]
          },
          "metadata": {},
          "execution_count": 109
        }
      ]
    },
    {
      "cell_type": "code",
      "source": [
        "[param.shape for param in seq_model.parameters()]"
      ],
      "metadata": {
        "colab": {
          "base_uri": "https://localhost:8080/"
        },
        "id": "p1O9csv_Tx4M",
        "outputId": "a7554a7c-78e3-4372-94a5-cb1a93765845"
      },
      "execution_count": null,
      "outputs": [
        {
          "output_type": "execute_result",
          "data": {
            "text/plain": [
              "[torch.Size([13, 1]), torch.Size([13]), torch.Size([1, 13]), torch.Size([1])]"
            ]
          },
          "metadata": {},
          "execution_count": 111
        }
      ]
    },
    {
      "cell_type": "code",
      "source": [
        "for name, param in seq_model.named_parameters():\n",
        "    print(name, param.shape)"
      ],
      "metadata": {
        "colab": {
          "base_uri": "https://localhost:8080/"
        },
        "id": "ZRHwdwMRT2Oj",
        "outputId": "0d18e679-8708-4a5f-d81a-2231c23434d5"
      },
      "execution_count": null,
      "outputs": [
        {
          "output_type": "stream",
          "name": "stdout",
          "text": [
            "0.weight torch.Size([13, 1])\n",
            "0.bias torch.Size([13])\n",
            "2.weight torch.Size([1, 13])\n",
            "2.bias torch.Size([1])\n"
          ]
        }
      ]
    },
    {
      "cell_type": "code",
      "source": [
        "from collections import OrderedDict\n",
        "\n",
        "seq_model = nn.Sequential(OrderedDict([\n",
        "    ('hidden_linear', nn.Linear(1, 8)),\n",
        "    ('hidden_activation', nn.Tanh()),\n",
        "    ('output_linear', nn.Linear(8, 1))\n",
        "]))\n",
        "\n",
        "seq_model"
      ],
      "metadata": {
        "colab": {
          "base_uri": "https://localhost:8080/"
        },
        "id": "oauk32xTT6Nd",
        "outputId": "b4ad1cbc-d82b-427f-c579-9035a82a5439"
      },
      "execution_count": null,
      "outputs": [
        {
          "output_type": "execute_result",
          "data": {
            "text/plain": [
              "Sequential(\n",
              "  (hidden_linear): Linear(in_features=1, out_features=8, bias=True)\n",
              "  (hidden_activation): Tanh()\n",
              "  (output_linear): Linear(in_features=8, out_features=1, bias=True)\n",
              ")"
            ]
          },
          "metadata": {},
          "execution_count": 113
        }
      ]
    },
    {
      "cell_type": "code",
      "source": [
        "for name, param in seq_model.named_parameters():\n",
        "    print(name, param.shape)"
      ],
      "metadata": {
        "colab": {
          "base_uri": "https://localhost:8080/"
        },
        "id": "zNuuULmYT8a9",
        "outputId": "38850396-3a06-4237-af7a-9b93bd2e1c0c"
      },
      "execution_count": null,
      "outputs": [
        {
          "output_type": "stream",
          "name": "stdout",
          "text": [
            "hidden_linear.weight torch.Size([8, 1])\n",
            "hidden_linear.bias torch.Size([8])\n",
            "output_linear.weight torch.Size([1, 8])\n",
            "output_linear.bias torch.Size([1])\n"
          ]
        }
      ]
    },
    {
      "cell_type": "code",
      "source": [
        "seq_model.output_linear.bias"
      ],
      "metadata": {
        "colab": {
          "base_uri": "https://localhost:8080/"
        },
        "id": "OCWk-8OvT_et",
        "outputId": "925fafdf-47bb-4600-a14b-cc93e8f43c1f"
      },
      "execution_count": null,
      "outputs": [
        {
          "output_type": "execute_result",
          "data": {
            "text/plain": [
              "Parameter containing:\n",
              "tensor([0.1209], requires_grad=True)"
            ]
          },
          "metadata": {},
          "execution_count": 116
        }
      ]
    },
    {
      "cell_type": "code",
      "source": [
        "optimizer = torch.optim.SGD(seq_model.parameters(), lr=1e-3) # We’ve dropped the\n",
        "                                                    # learning rate a bit to\n",
        "                                                    # help with stability.\n",
        "training_loop(\n",
        "    n_epochs = 5000,\n",
        "    optimizer = optimizer,\n",
        "    model = seq_model,\n",
        "    loss_fn = nn.MSELoss(),\n",
        "    t_u_train = t_un_train,\n",
        "    t_u_val = t_un_val,\n",
        "    t_c_train = t_c_train,\n",
        "    t_c_val = t_c_val)\n",
        "\n",
        "print('output', seq_model(t_un_val))\n",
        "print('answer', t_c_val)\n",
        "print('hidden', seq_model.hidden_linear.weight.grad)"
      ],
      "metadata": {
        "colab": {
          "base_uri": "https://localhost:8080/",
          "height": 236
        },
        "id": "1-RBgUlHUB1a",
        "outputId": "30b7661a-d747-4044-9d96-ebd3eb57628e"
      },
      "execution_count": 1,
      "outputs": [
        {
          "output_type": "error",
          "ename": "NameError",
          "evalue": "ignored",
          "traceback": [
            "\u001b[0;31m---------------------------------------------------------------------------\u001b[0m",
            "\u001b[0;31mNameError\u001b[0m                                 Traceback (most recent call last)",
            "\u001b[0;32m<ipython-input-1-5e1685f93e68>\u001b[0m in \u001b[0;36m<cell line: 1>\u001b[0;34m()\u001b[0m\n\u001b[0;32m----> 1\u001b[0;31m \u001b[0moptimizer\u001b[0m \u001b[0;34m=\u001b[0m \u001b[0mtorch\u001b[0m\u001b[0;34m.\u001b[0m\u001b[0moptim\u001b[0m\u001b[0;34m.\u001b[0m\u001b[0mSGD\u001b[0m\u001b[0;34m(\u001b[0m\u001b[0mseq_model\u001b[0m\u001b[0;34m.\u001b[0m\u001b[0mparameters\u001b[0m\u001b[0;34m(\u001b[0m\u001b[0;34m)\u001b[0m\u001b[0;34m,\u001b[0m \u001b[0mlr\u001b[0m\u001b[0;34m=\u001b[0m\u001b[0;36m1e-3\u001b[0m\u001b[0;34m)\u001b[0m \u001b[0;31m# We’ve dropped the\u001b[0m\u001b[0;34m\u001b[0m\u001b[0;34m\u001b[0m\u001b[0m\n\u001b[0m\u001b[1;32m      2\u001b[0m                                                     \u001b[0;31m# learning rate a bit to\u001b[0m\u001b[0;34m\u001b[0m\u001b[0;34m\u001b[0m\u001b[0m\n\u001b[1;32m      3\u001b[0m                                                     \u001b[0;31m# help with stability.\u001b[0m\u001b[0;34m\u001b[0m\u001b[0;34m\u001b[0m\u001b[0m\n\u001b[1;32m      4\u001b[0m training_loop(\n\u001b[1;32m      5\u001b[0m     \u001b[0mn_epochs\u001b[0m \u001b[0;34m=\u001b[0m \u001b[0;36m5000\u001b[0m\u001b[0;34m,\u001b[0m\u001b[0;34m\u001b[0m\u001b[0;34m\u001b[0m\u001b[0m\n",
            "\u001b[0;31mNameError\u001b[0m: name 'torch' is not defined"
          ]
        }
      ]
    }
  ]
}