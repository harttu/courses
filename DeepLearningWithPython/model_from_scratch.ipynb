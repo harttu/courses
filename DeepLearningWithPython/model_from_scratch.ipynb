{
  "nbformat": 4,
  "nbformat_minor": 0,
  "metadata": {
    "colab": {
      "name": "model_from_scratch.ipynb",
      "provenance": [],
      "authorship_tag": "ABX9TyOMhsci9x8B4VXOTjyWTc0D",
      "include_colab_link": true
    },
    "kernelspec": {
      "name": "python3",
      "display_name": "Python 3"
    },
    "language_info": {
      "name": "python"
    }
  },
  "cells": [
    {
      "cell_type": "markdown",
      "metadata": {
        "id": "view-in-github",
        "colab_type": "text"
      },
      "source": [
        "<a href=\"https://colab.research.google.com/github/harttu/courses/blob/main/DeepLearningWithPython/model_from_scratch.ipynb\" target=\"_parent\"><img src=\"https://colab.research.google.com/assets/colab-badge.svg\" alt=\"Open In Colab\"/></a>"
      ]
    },
    {
      "cell_type": "code",
      "execution_count": null,
      "metadata": {
        "id": "8AbU33gbYQb-"
      },
      "outputs": [],
      "source": [
        "2+2"
      ]
    }
  ]
}